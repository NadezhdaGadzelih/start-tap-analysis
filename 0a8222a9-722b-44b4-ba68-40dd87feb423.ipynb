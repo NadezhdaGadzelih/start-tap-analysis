{
 "cells": [
  {
   "cell_type": "markdown",
   "metadata": {},
   "source": [
    "<div class=\"alert alert-block\">\n",
    "Проектная работа\n",
    "                        \n",
    "Объект исследования- стартап, который продаёт продукты питания. \n",
    "\n",
    "    Цель проекта -нужно разобраться, как ведут себя пользователи вашего мобильного приложения. Узнать как пользователи доходят до покупки. Сколько пользователей доходит до покупки, а сколько — «застревает» на предыдущих шагах? На каких именно?\n",
    "\n",
    "    Спообы исследования - изучение воронк.  \n",
    "    Исследование результатов A/A/B-эксперимента- дизайнеры захотели поменять шрифты во всём приложении, а менеджеры испугались, что пользователям будет непривычно.  \n",
    "    Договорились принять решение по результатам A/A/B-теста. \n",
    "    Создание двух групп A вместо одной\n",
    "\n",
    "    Описание данных\n",
    "Каждая запись в логе — это действие пользователя, или событие. \n",
    " \n",
    "    •\tEventName — название события;\n",
    " \n",
    "    •\tDeviceIDHash — уникальный идентификатор пользователя;\n",
    " \n",
    "    •\tEventTimestamp — время события;\n",
    " \n",
    "    •\tExpId — номер эксперимента: 246 и 247 — контрольные группы, а 248 — экспериментальная.\n",
    "</div>"
   ]
  },
  {
   "cell_type": "code",
   "execution_count": 85,
   "metadata": {},
   "outputs": [],
   "source": [
    "import pandas as pd\n",
    "import numpy as np\n",
    "import matplotlib\n",
    "import matplotlib.pyplot as plt\n",
    "from plotly import graph_objects as go\n",
    "import plotly.express as px\n",
    "from scipy import stats as st\n",
    "from sklearn import datasets\n",
    "import scipy.stats as stats\n",
    "import math as mth"
   ]
  },
  {
   "cell_type": "code",
   "execution_count": 86,
   "metadata": {},
   "outputs": [],
   "source": [
    "df = pd.read_csv('/datasets/logs_exp.csv', sep = \"\\t\")"
   ]
  },
  {
   "cell_type": "code",
   "execution_count": 87,
   "metadata": {},
   "outputs": [
    {
     "name": "stdout",
     "output_type": "stream",
     "text": [
      "<class 'pandas.core.frame.DataFrame'>\n",
      "RangeIndex: 244126 entries, 0 to 244125\n",
      "Data columns (total 4 columns):\n",
      " #   Column          Non-Null Count   Dtype \n",
      "---  ------          --------------   ----- \n",
      " 0   EventName       244126 non-null  object\n",
      " 1   DeviceIDHash    244126 non-null  int64 \n",
      " 2   EventTimestamp  244126 non-null  int64 \n",
      " 3   ExpId           244126 non-null  int64 \n",
      "dtypes: int64(3), object(1)\n",
      "memory usage: 7.5+ MB\n"
     ]
    }
   ],
   "source": [
    "df.info()"
   ]
  },
  {
   "cell_type": "markdown",
   "metadata": {},
   "source": [
    "EventName — название события;\n",
    "DeviceIDHash **— уникальный идентификатор пользователя;\n",
    "EventTimestamp — время события;\n",
    "ExpId — номер эксперимента: 246 и 247 — контрольные группы, а 248 — экспериментальна"
   ]
  },
  {
   "cell_type": "markdown",
   "metadata": {},
   "source": [
    "Подготовим данные к дальнейшей работе"
   ]
  },
  {
   "cell_type": "markdown",
   "metadata": {},
   "source": [
    "Переименнуем столбцы в более удобные названия"
   ]
  },
  {
   "cell_type": "code",
   "execution_count": 88,
   "metadata": {},
   "outputs": [
    {
     "data": {
      "text/html": [
       "<div>\n",
       "<style scoped>\n",
       "    .dataframe tbody tr th:only-of-type {\n",
       "        vertical-align: middle;\n",
       "    }\n",
       "\n",
       "    .dataframe tbody tr th {\n",
       "        vertical-align: top;\n",
       "    }\n",
       "\n",
       "    .dataframe thead th {\n",
       "        text-align: right;\n",
       "    }\n",
       "</style>\n",
       "<table border=\"1\" class=\"dataframe\">\n",
       "  <thead>\n",
       "    <tr style=\"text-align: right;\">\n",
       "      <th></th>\n",
       "      <th>event</th>\n",
       "      <th>user_id</th>\n",
       "      <th>times</th>\n",
       "      <th>test_group</th>\n",
       "    </tr>\n",
       "  </thead>\n",
       "  <tbody>\n",
       "    <tr>\n",
       "      <th>0</th>\n",
       "      <td>MainScreenAppear</td>\n",
       "      <td>4575588528974610257</td>\n",
       "      <td>1564029816</td>\n",
       "      <td>246</td>\n",
       "    </tr>\n",
       "    <tr>\n",
       "      <th>1</th>\n",
       "      <td>MainScreenAppear</td>\n",
       "      <td>7416695313311560658</td>\n",
       "      <td>1564053102</td>\n",
       "      <td>246</td>\n",
       "    </tr>\n",
       "    <tr>\n",
       "      <th>2</th>\n",
       "      <td>PaymentScreenSuccessful</td>\n",
       "      <td>3518123091307005509</td>\n",
       "      <td>1564054127</td>\n",
       "      <td>248</td>\n",
       "    </tr>\n",
       "    <tr>\n",
       "      <th>3</th>\n",
       "      <td>CartScreenAppear</td>\n",
       "      <td>3518123091307005509</td>\n",
       "      <td>1564054127</td>\n",
       "      <td>248</td>\n",
       "    </tr>\n",
       "    <tr>\n",
       "      <th>4</th>\n",
       "      <td>PaymentScreenSuccessful</td>\n",
       "      <td>6217807653094995999</td>\n",
       "      <td>1564055322</td>\n",
       "      <td>248</td>\n",
       "    </tr>\n",
       "    <tr>\n",
       "      <th>5</th>\n",
       "      <td>CartScreenAppear</td>\n",
       "      <td>6217807653094995999</td>\n",
       "      <td>1564055323</td>\n",
       "      <td>248</td>\n",
       "    </tr>\n",
       "    <tr>\n",
       "      <th>6</th>\n",
       "      <td>OffersScreenAppear</td>\n",
       "      <td>8351860793733343758</td>\n",
       "      <td>1564066242</td>\n",
       "      <td>246</td>\n",
       "    </tr>\n",
       "    <tr>\n",
       "      <th>7</th>\n",
       "      <td>MainScreenAppear</td>\n",
       "      <td>5682100281902512875</td>\n",
       "      <td>1564085677</td>\n",
       "      <td>246</td>\n",
       "    </tr>\n",
       "    <tr>\n",
       "      <th>8</th>\n",
       "      <td>MainScreenAppear</td>\n",
       "      <td>1850981295691852772</td>\n",
       "      <td>1564086702</td>\n",
       "      <td>247</td>\n",
       "    </tr>\n",
       "    <tr>\n",
       "      <th>9</th>\n",
       "      <td>MainScreenAppear</td>\n",
       "      <td>5407636962369102641</td>\n",
       "      <td>1564112112</td>\n",
       "      <td>246</td>\n",
       "    </tr>\n",
       "  </tbody>\n",
       "</table>\n",
       "</div>"
      ],
      "text/plain": [
       "                     event              user_id       times  test_group\n",
       "0         MainScreenAppear  4575588528974610257  1564029816         246\n",
       "1         MainScreenAppear  7416695313311560658  1564053102         246\n",
       "2  PaymentScreenSuccessful  3518123091307005509  1564054127         248\n",
       "3         CartScreenAppear  3518123091307005509  1564054127         248\n",
       "4  PaymentScreenSuccessful  6217807653094995999  1564055322         248\n",
       "5         CartScreenAppear  6217807653094995999  1564055323         248\n",
       "6       OffersScreenAppear  8351860793733343758  1564066242         246\n",
       "7         MainScreenAppear  5682100281902512875  1564085677         246\n",
       "8         MainScreenAppear  1850981295691852772  1564086702         247\n",
       "9         MainScreenAppear  5407636962369102641  1564112112         246"
      ]
     },
     "execution_count": 88,
     "metadata": {},
     "output_type": "execute_result"
    }
   ],
   "source": [
    "df.rename(columns = {'EventName':'event', 'DeviceIDHash':'user_id', 'EventTimestamp':'times', 'ExpId':'test_group'}, inplace = True )\n",
    "df.head(10)"
   ]
  },
  {
   "cell_type": "markdown",
   "metadata": {},
   "source": [
    "Изменим формат столбца 'times' и добавим отдельно столбец 'date'"
   ]
  },
  {
   "cell_type": "code",
   "execution_count": 89,
   "metadata": {},
   "outputs": [
    {
     "name": "stdout",
     "output_type": "stream",
     "text": [
      "                     event              user_id               times  \\\n",
      "0         MainScreenAppear  4575588528974610257 2019-07-25 04:43:36   \n",
      "1         MainScreenAppear  7416695313311560658 2019-07-25 11:11:42   \n",
      "2  PaymentScreenSuccessful  3518123091307005509 2019-07-25 11:28:47   \n",
      "3         CartScreenAppear  3518123091307005509 2019-07-25 11:28:47   \n",
      "4  PaymentScreenSuccessful  6217807653094995999 2019-07-25 11:48:42   \n",
      "\n",
      "   test_group        date  \n",
      "0         246  2019-07-25  \n",
      "1         246  2019-07-25  \n",
      "2         248  2019-07-25  \n",
      "3         248  2019-07-25  \n",
      "4         248  2019-07-25  \n"
     ]
    }
   ],
   "source": [
    "df['times']=pd.to_datetime(df['times'], unit='s')\n",
    "df['times'].dt.date\n",
    "df['date'] = df['times'].dt.date\n",
    "print(df.head())"
   ]
  },
  {
   "cell_type": "code",
   "execution_count": 90,
   "metadata": {},
   "outputs": [
    {
     "name": "stdout",
     "output_type": "stream",
     "text": [
      "Дубликатов: 413\n",
      "Процент дубликатов от всех данных: 0.17%\n"
     ]
    }
   ],
   "source": [
    "#проверим данные на наличие дубликатов\n",
    "print('Дубликатов:', df.duplicated().sum())\n",
    "print('Процент дубликатов от всех данных:', \"{0:.2%}\".format(df.duplicated().sum() / len(df)))"
   ]
  },
  {
   "cell_type": "markdown",
   "metadata": {},
   "source": [
    "Избавимся от дубликатов "
   ]
  },
  {
   "cell_type": "code",
   "execution_count": 91,
   "metadata": {},
   "outputs": [
    {
     "data": {
      "text/html": [
       "<div>\n",
       "<style scoped>\n",
       "    .dataframe tbody tr th:only-of-type {\n",
       "        vertical-align: middle;\n",
       "    }\n",
       "\n",
       "    .dataframe tbody tr th {\n",
       "        vertical-align: top;\n",
       "    }\n",
       "\n",
       "    .dataframe thead th {\n",
       "        text-align: right;\n",
       "    }\n",
       "</style>\n",
       "<table border=\"1\" class=\"dataframe\">\n",
       "  <thead>\n",
       "    <tr style=\"text-align: right;\">\n",
       "      <th></th>\n",
       "      <th>event</th>\n",
       "      <th>user_id</th>\n",
       "      <th>times</th>\n",
       "      <th>test_group</th>\n",
       "      <th>date</th>\n",
       "    </tr>\n",
       "  </thead>\n",
       "  <tbody>\n",
       "    <tr>\n",
       "      <th>0</th>\n",
       "      <td>MainScreenAppear</td>\n",
       "      <td>4575588528974610257</td>\n",
       "      <td>2019-07-25 04:43:36</td>\n",
       "      <td>246</td>\n",
       "      <td>2019-07-25</td>\n",
       "    </tr>\n",
       "    <tr>\n",
       "      <th>1</th>\n",
       "      <td>MainScreenAppear</td>\n",
       "      <td>7416695313311560658</td>\n",
       "      <td>2019-07-25 11:11:42</td>\n",
       "      <td>246</td>\n",
       "      <td>2019-07-25</td>\n",
       "    </tr>\n",
       "    <tr>\n",
       "      <th>2</th>\n",
       "      <td>PaymentScreenSuccessful</td>\n",
       "      <td>3518123091307005509</td>\n",
       "      <td>2019-07-25 11:28:47</td>\n",
       "      <td>248</td>\n",
       "      <td>2019-07-25</td>\n",
       "    </tr>\n",
       "    <tr>\n",
       "      <th>3</th>\n",
       "      <td>CartScreenAppear</td>\n",
       "      <td>3518123091307005509</td>\n",
       "      <td>2019-07-25 11:28:47</td>\n",
       "      <td>248</td>\n",
       "      <td>2019-07-25</td>\n",
       "    </tr>\n",
       "    <tr>\n",
       "      <th>4</th>\n",
       "      <td>PaymentScreenSuccessful</td>\n",
       "      <td>6217807653094995999</td>\n",
       "      <td>2019-07-25 11:48:42</td>\n",
       "      <td>248</td>\n",
       "      <td>2019-07-25</td>\n",
       "    </tr>\n",
       "    <tr>\n",
       "      <th>...</th>\n",
       "      <td>...</td>\n",
       "      <td>...</td>\n",
       "      <td>...</td>\n",
       "      <td>...</td>\n",
       "      <td>...</td>\n",
       "    </tr>\n",
       "    <tr>\n",
       "      <th>243708</th>\n",
       "      <td>MainScreenAppear</td>\n",
       "      <td>4599628364049201812</td>\n",
       "      <td>2019-08-07 21:12:25</td>\n",
       "      <td>247</td>\n",
       "      <td>2019-08-07</td>\n",
       "    </tr>\n",
       "    <tr>\n",
       "      <th>243709</th>\n",
       "      <td>MainScreenAppear</td>\n",
       "      <td>5849806612437486590</td>\n",
       "      <td>2019-08-07 21:13:59</td>\n",
       "      <td>246</td>\n",
       "      <td>2019-08-07</td>\n",
       "    </tr>\n",
       "    <tr>\n",
       "      <th>243710</th>\n",
       "      <td>MainScreenAppear</td>\n",
       "      <td>5746969938801999050</td>\n",
       "      <td>2019-08-07 21:14:43</td>\n",
       "      <td>246</td>\n",
       "      <td>2019-08-07</td>\n",
       "    </tr>\n",
       "    <tr>\n",
       "      <th>243711</th>\n",
       "      <td>MainScreenAppear</td>\n",
       "      <td>5746969938801999050</td>\n",
       "      <td>2019-08-07 21:14:58</td>\n",
       "      <td>246</td>\n",
       "      <td>2019-08-07</td>\n",
       "    </tr>\n",
       "    <tr>\n",
       "      <th>243712</th>\n",
       "      <td>OffersScreenAppear</td>\n",
       "      <td>5746969938801999050</td>\n",
       "      <td>2019-08-07 21:15:17</td>\n",
       "      <td>246</td>\n",
       "      <td>2019-08-07</td>\n",
       "    </tr>\n",
       "  </tbody>\n",
       "</table>\n",
       "<p>243713 rows × 5 columns</p>\n",
       "</div>"
      ],
      "text/plain": [
       "                          event              user_id               times  \\\n",
       "0              MainScreenAppear  4575588528974610257 2019-07-25 04:43:36   \n",
       "1              MainScreenAppear  7416695313311560658 2019-07-25 11:11:42   \n",
       "2       PaymentScreenSuccessful  3518123091307005509 2019-07-25 11:28:47   \n",
       "3              CartScreenAppear  3518123091307005509 2019-07-25 11:28:47   \n",
       "4       PaymentScreenSuccessful  6217807653094995999 2019-07-25 11:48:42   \n",
       "...                         ...                  ...                 ...   \n",
       "243708         MainScreenAppear  4599628364049201812 2019-08-07 21:12:25   \n",
       "243709         MainScreenAppear  5849806612437486590 2019-08-07 21:13:59   \n",
       "243710         MainScreenAppear  5746969938801999050 2019-08-07 21:14:43   \n",
       "243711         MainScreenAppear  5746969938801999050 2019-08-07 21:14:58   \n",
       "243712       OffersScreenAppear  5746969938801999050 2019-08-07 21:15:17   \n",
       "\n",
       "        test_group        date  \n",
       "0              246  2019-07-25  \n",
       "1              246  2019-07-25  \n",
       "2              248  2019-07-25  \n",
       "3              248  2019-07-25  \n",
       "4              248  2019-07-25  \n",
       "...            ...         ...  \n",
       "243708         247  2019-08-07  \n",
       "243709         246  2019-08-07  \n",
       "243710         246  2019-08-07  \n",
       "243711         246  2019-08-07  \n",
       "243712         246  2019-08-07  \n",
       "\n",
       "[243713 rows x 5 columns]"
      ]
     },
     "execution_count": 91,
     "metadata": {},
     "output_type": "execute_result"
    }
   ],
   "source": [
    "df = df.drop_duplicates().reset_index(drop=True)\n",
    "df"
   ]
  },
  {
   "cell_type": "code",
   "execution_count": 92,
   "metadata": {},
   "outputs": [
    {
     "name": "stdout",
     "output_type": "stream",
     "text": [
      "Дубликатов: 0\n",
      "Процент дубликатов от всех данных: 0.00%\n"
     ]
    }
   ],
   "source": [
    "#проверим данные на наличие дубликатов\n",
    "print('Дубликатов:', df.duplicated().sum())\n",
    "print('Процент дубликатов от всех данных:', \"{0:.2%}\".format(df.duplicated().sum() / len(df)))"
   ]
  },
  {
   "cell_type": "markdown",
   "metadata": {},
   "source": [
    "Провеим пробелы в данных"
   ]
  },
  {
   "cell_type": "code",
   "execution_count": 93,
   "metadata": {},
   "outputs": [
    {
     "data": {
      "text/plain": [
       "event         0\n",
       "user_id       0\n",
       "times         0\n",
       "test_group    0\n",
       "date          0\n",
       "dtype: int64"
      ]
     },
     "execution_count": 93,
     "metadata": {},
     "output_type": "execute_result"
    }
   ],
   "source": [
    "df.isna().sum()"
   ]
  },
  {
   "cell_type": "markdown",
   "metadata": {},
   "source": [
    "Пропусков в данных нет, данные отобразились в полном объеме."
   ]
  },
  {
   "cell_type": "markdown",
   "metadata": {},
   "source": [
    "Данные готовы к дальнейшей работе, в них нет пропусков, процент дубликатов был не велик ( 0,17 %) от общего объема данных, все дубликаты удалены, пользователи разбиты на группы 246, 247, 248"
   ]
  },
  {
   "cell_type": "markdown",
   "metadata": {},
   "source": [
    "Изучим и проверим данные\n",
    "•\tСколько всего событий в логе?\n",
    "•\tСколько всего пользователей в логе?\n",
    "•\tСколько в среднем событий приходится на пользователя?\n",
    "•\tДанными за какой период вы располагаете? Найдите максимальную и минимальную дату. Постройте гистограмму по дате и времени. Можно ли быть уверенным, что у вас одинаково полные данные за весь период? Технически в логи новых дней по некоторым пользователям могут «доезжать» события из прошлого — это может «перекашивать данные». Определите, с какого момента данные полные и отбросьте более старые. Данными за какой период времени вы располагаете на самом деле?\n",
    "•\tМного ли событий и пользователей вы потеряли, отбросив старые данные?\n",
    "•\tПроверьте, что у вас есть пользователи из всех трёх экспериментальных групп.\n"
   ]
  },
  {
   "cell_type": "code",
   "execution_count": 94,
   "metadata": {},
   "outputs": [
    {
     "name": "stdout",
     "output_type": "stream",
     "text": [
      "Всего событий в логе: 243713\n"
     ]
    }
   ],
   "source": [
    "event_df = len(df)\n",
    "print('Всего событий в логе:', event_df)"
   ]
  },
  {
   "cell_type": "code",
   "execution_count": 95,
   "metadata": {},
   "outputs": [
    {
     "name": "stdout",
     "output_type": "stream",
     "text": [
      "Всего  в логе: 243713\n"
     ]
    }
   ],
   "source": [
    "user_df = len(df)\n",
    "print('Всего  в логе:', user_df)"
   ]
  },
  {
   "cell_type": "code",
   "execution_count": 96,
   "metadata": {},
   "outputs": [
    {
     "name": "stdout",
     "output_type": "stream",
     "text": [
      "Всего уникальных пользователей: 7551\n"
     ]
    }
   ],
   "source": [
    "n_users = df['user_id'].nunique()\n",
    "print('Всего уникальных пользователей:', n_users)"
   ]
  },
  {
   "cell_type": "code",
   "execution_count": 97,
   "metadata": {},
   "outputs": [
    {
     "name": "stdout",
     "output_type": "stream",
     "text": [
      "В среднем на одного пользователя приходится 32.3 события\n"
     ]
    }
   ],
   "source": [
    "#Сколько в среднем событий приходится на пользователя\n",
    "print(f\"В среднем на одного пользователя приходится {round(df.groupby('user_id').agg({'event': 'count'}).mean()[0], 1)} события\")"
   ]
  },
  {
   "cell_type": "markdown",
   "metadata": {},
   "source": [
    "Необходимо поверить данные на выбросы, так как они влияют на результаты, проверим как именно записаны данные"
   ]
  },
  {
   "cell_type": "code",
   "execution_count": 98,
   "metadata": {},
   "outputs": [
    {
     "data": {
      "text/html": [
       "<div>\n",
       "<style scoped>\n",
       "    .dataframe tbody tr th:only-of-type {\n",
       "        vertical-align: middle;\n",
       "    }\n",
       "\n",
       "    .dataframe tbody tr th {\n",
       "        vertical-align: top;\n",
       "    }\n",
       "\n",
       "    .dataframe thead th {\n",
       "        text-align: right;\n",
       "    }\n",
       "</style>\n",
       "<table border=\"1\" class=\"dataframe\">\n",
       "  <thead>\n",
       "    <tr style=\"text-align: right;\">\n",
       "      <th></th>\n",
       "      <th>event</th>\n",
       "    </tr>\n",
       "  </thead>\n",
       "  <tbody>\n",
       "    <tr>\n",
       "      <th>count</th>\n",
       "      <td>7551.000000</td>\n",
       "    </tr>\n",
       "    <tr>\n",
       "      <th>mean</th>\n",
       "      <td>32.275593</td>\n",
       "    </tr>\n",
       "    <tr>\n",
       "      <th>std</th>\n",
       "      <td>65.154219</td>\n",
       "    </tr>\n",
       "    <tr>\n",
       "      <th>min</th>\n",
       "      <td>1.000000</td>\n",
       "    </tr>\n",
       "    <tr>\n",
       "      <th>25%</th>\n",
       "      <td>9.000000</td>\n",
       "    </tr>\n",
       "    <tr>\n",
       "      <th>50%</th>\n",
       "      <td>20.000000</td>\n",
       "    </tr>\n",
       "    <tr>\n",
       "      <th>75%</th>\n",
       "      <td>37.000000</td>\n",
       "    </tr>\n",
       "    <tr>\n",
       "      <th>max</th>\n",
       "      <td>2307.000000</td>\n",
       "    </tr>\n",
       "  </tbody>\n",
       "</table>\n",
       "</div>"
      ],
      "text/plain": [
       "             event\n",
       "count  7551.000000\n",
       "mean     32.275593\n",
       "std      65.154219\n",
       "min       1.000000\n",
       "25%       9.000000\n",
       "50%      20.000000\n",
       "75%      37.000000\n",
       "max    2307.000000"
      ]
     },
     "execution_count": 98,
     "metadata": {},
     "output_type": "execute_result"
    }
   ],
   "source": [
    "df.groupby('user_id').agg({'event': 'count'}).describe()"
   ]
  },
  {
   "cell_type": "markdown",
   "metadata": {},
   "source": [
    "перцентиль распределения числа событий 75% на пользователя равен всего 37, а максимальное значение событий на одного пользователя  2307, можно сказать, что присутствуют выбросы и для расчета среднего лучше использовать медиану."
   ]
  },
  {
   "cell_type": "code",
   "execution_count": 99,
   "metadata": {},
   "outputs": [
    {
     "name": "stdout",
     "output_type": "stream",
     "text": [
      "Всего пользователей в логе 7551.\n",
      "\n"
     ]
    }
   ],
   "source": [
    "#Посмотрим сколько пользователей всего в логе\n",
    "print('Всего пользователей в логе {}.'.format(df['user_id'].nunique()))\n",
    "print('')"
   ]
  },
  {
   "cell_type": "markdown",
   "metadata": {},
   "source": [
    "Узнаем данными за какой период располагам? Найдите максимальную и минимальную дату."
   ]
  },
  {
   "cell_type": "code",
   "execution_count": 100,
   "metadata": {
    "scrolled": true
   },
   "outputs": [
    {
     "name": "stdout",
     "output_type": "stream",
     "text": [
      "Минимальная дата наблюдений: 2019-07-25\n",
      "Максимальная дата наблюдений: 2019-08-07\n"
     ]
    }
   ],
   "source": [
    "print('Минимальная дата наблюдений:', df['date'].min())\n",
    "print('Максимальная дата наблюдений:', df['date'].max())"
   ]
  },
  {
   "cell_type": "markdown",
   "metadata": {},
   "source": [
    "Построим гистограмму по дате и времени"
   ]
  },
  {
   "cell_type": "code",
   "execution_count": 101,
   "metadata": {},
   "outputs": [
    {
     "data": {
      "image/png": "[encoded data removed]",
      "text/plain": [
       "<Figure size 720x720 with 1 Axes>"
      ]
     },
     "metadata": {
      "needs_background": "light"
     },
     "output_type": "display_data"
    }
   ],
   "source": [
    "df['times'].hist(figsize=(10, 10))\n",
    "plt.xticks(rotation=30)\n",
    "plt.title('Временной интервал')\n",
    "plt.xlabel('Дата')\n",
    "plt.ylabel('События')\n",
    "plt.show()"
   ]
  },
  {
   "cell_type": "markdown",
   "metadata": {},
   "source": [
    "Технически в логи новых дней по некоторым пользователям могут «доезжать» события из прошлого — это может «перекашивать данные»\n",
    "Как видно по гистограмме основная масса логов приходится на период с 1 по 7 августа 2019.\n",
    "Судя по гистограмме истинный период данных 1-7.08.2019, записи до этой даты могли появиться ввиду разницы в часовых поясах или же пользователь мог начать сессию в один день и закончить на следующий, таким образом логично будет отбросить все записи до 1 августа."
   ]
  },
  {
   "cell_type": "code",
   "execution_count": 102,
   "metadata": {},
   "outputs": [
    {
     "name": "stdout",
     "output_type": "stream",
     "text": [
      "Новая минимальная дата наблюдений: 2019-08-01 00:07:28\n"
     ]
    }
   ],
   "source": [
    "# отбрасываем данные\n",
    "df = df.query('times >= \"2019-08-01\"')\n",
    "print('Новая минимальная дата наблюдений:', df['times'].min())"
   ]
  },
  {
   "cell_type": "markdown",
   "metadata": {},
   "source": [
    "Узнаем много ли событий потеряли отбросив старые данные?"
   ]
  },
  {
   "cell_type": "code",
   "execution_count": 103,
   "metadata": {},
   "outputs": [
    {
     "name": "stdout",
     "output_type": "stream",
     "text": [
      "Потеряли 2826 событий, что равно 1.16% от общего числа данных\n"
     ]
    }
   ],
   "source": [
    "print(f'Потеряли {event_df - len(df)} событий, что равно {round((event_df - len(df)) / event_df * 100, 2)}% от общего числа данных')"
   ]
  },
  {
   "cell_type": "code",
   "execution_count": 104,
   "metadata": {},
   "outputs": [
    {
     "name": "stdout",
     "output_type": "stream",
     "text": [
      "Потеряли 17 пользователей, что являлось 0.23% от общего числа пользователей\n"
     ]
    }
   ],
   "source": [
    "print(f\"Потеряли {n_users - df['user_id'].nunique()} пользователей, что являлось {round((n_users - df['user_id'].nunique()) / n_users * 100, 2)}% от общего числа пользователей\")"
   ]
  },
  {
   "cell_type": "code",
   "execution_count": 105,
   "metadata": {},
   "outputs": [
    {
     "data": {
      "text/html": [
       "<div>\n",
       "<style scoped>\n",
       "    .dataframe tbody tr th:only-of-type {\n",
       "        vertical-align: middle;\n",
       "    }\n",
       "\n",
       "    .dataframe tbody tr th {\n",
       "        vertical-align: top;\n",
       "    }\n",
       "\n",
       "    .dataframe thead th {\n",
       "        text-align: right;\n",
       "    }\n",
       "</style>\n",
       "<table border=\"1\" class=\"dataframe\">\n",
       "  <thead>\n",
       "    <tr style=\"text-align: right;\">\n",
       "      <th></th>\n",
       "      <th>user_id</th>\n",
       "    </tr>\n",
       "    <tr>\n",
       "      <th>test_group</th>\n",
       "      <th></th>\n",
       "    </tr>\n",
       "  </thead>\n",
       "  <tbody>\n",
       "    <tr>\n",
       "      <th>246</th>\n",
       "      <td>2484</td>\n",
       "    </tr>\n",
       "    <tr>\n",
       "      <th>247</th>\n",
       "      <td>2513</td>\n",
       "    </tr>\n",
       "    <tr>\n",
       "      <th>248</th>\n",
       "      <td>2537</td>\n",
       "    </tr>\n",
       "  </tbody>\n",
       "</table>\n",
       "</div>"
      ],
      "text/plain": [
       "            user_id\n",
       "test_group         \n",
       "246            2484\n",
       "247            2513\n",
       "248            2537"
      ]
     },
     "execution_count": 105,
     "metadata": {},
     "output_type": "execute_result"
    }
   ],
   "source": [
    "#Проверим, что у нас есть пользователи из всех трёх экспериментальных групп.\n",
    "df.groupby('test_group').agg({'user_id': 'nunique'})"
   ]
  },
  {
   "cell_type": "code",
   "execution_count": 106,
   "metadata": {},
   "outputs": [
    {
     "name": "stdout",
     "output_type": "stream",
     "text": [
      "Количество пользователей, попавших в несколько групп: 0\n"
     ]
    }
   ],
   "source": [
    "# проверим есть ли пользователи попавшие сразу в несколько групп\n",
    "print('Количество пользователей, попавших в несколько групп:',\\\n",
    "      df.groupby('user_id').agg({'test_group': 'nunique'}).query('test_group > 1').count()[0])"
   ]
  },
  {
   "cell_type": "markdown",
   "metadata": {},
   "source": [
    "Данные отобразились в группах корректно,в каждой из групп есть пользователи,  пользователей попадающихся в разных группах нет. Потеряли после очистки данных всего 17 пользователей, что составило 0,23 процента от общего числа пользователей,что совсем немного и не явно не влияет на данные, можно работатьдальше с такими данными."
   ]
  },
  {
   "cell_type": "markdown",
   "metadata": {},
   "source": [
    "Изучим воронку событий"
   ]
  },
  {
   "cell_type": "markdown",
   "metadata": {},
   "source": [
    "Отсортируем события по частоте"
   ]
  },
  {
   "cell_type": "code",
   "execution_count": 107,
   "metadata": {},
   "outputs": [
    {
     "data": {
      "text/plain": [
       "event\n",
       "MainScreenAppear           117328\n",
       "OffersScreenAppear          46333\n",
       "CartScreenAppear            42303\n",
       "PaymentScreenSuccessful     33918\n",
       "Tutorial                     1005\n",
       "Name: event, dtype: int64"
      ]
     },
     "execution_count": 107,
     "metadata": {},
     "output_type": "execute_result"
    }
   ],
   "source": [
    "df.groupby('event')['event'].count().sort_values(ascending=False)"
   ]
  },
  {
   "cell_type": "markdown",
   "metadata": {},
   "source": [
    "Всего 5 событий:\n",
    "Main Screen Appear- Появление главного экрана          \n",
    "OffersScreenAppear- Появление экрана предложений          \n",
    "CartScreenAppear- Появление экрана корзины          \n",
    "PaymentScreenSuccessful-Экран оплаты успешно      \n",
    "Tutorial-Руководство    "
   ]
  },
  {
   "cell_type": "markdown",
   "metadata": {},
   "source": [
    "Посчитаем, сколько пользователей совершали каждое из этих событий.\n",
    "Отсортируем события по числу пользователей. "
   ]
  },
  {
   "cell_type": "code",
   "execution_count": 108,
   "metadata": {},
   "outputs": [
    {
     "data": {
      "text/html": [
       "<div>\n",
       "<style scoped>\n",
       "    .dataframe tbody tr th:only-of-type {\n",
       "        vertical-align: middle;\n",
       "    }\n",
       "\n",
       "    .dataframe tbody tr th {\n",
       "        vertical-align: top;\n",
       "    }\n",
       "\n",
       "    .dataframe thead th {\n",
       "        text-align: right;\n",
       "    }\n",
       "</style>\n",
       "<table border=\"1\" class=\"dataframe\">\n",
       "  <thead>\n",
       "    <tr style=\"text-align: right;\">\n",
       "      <th></th>\n",
       "      <th>event</th>\n",
       "      <th>cnt_users</th>\n",
       "    </tr>\n",
       "  </thead>\n",
       "  <tbody>\n",
       "    <tr>\n",
       "      <th>0</th>\n",
       "      <td>MainScreenAppear</td>\n",
       "      <td>7419</td>\n",
       "    </tr>\n",
       "    <tr>\n",
       "      <th>1</th>\n",
       "      <td>OffersScreenAppear</td>\n",
       "      <td>4593</td>\n",
       "    </tr>\n",
       "    <tr>\n",
       "      <th>2</th>\n",
       "      <td>CartScreenAppear</td>\n",
       "      <td>3734</td>\n",
       "    </tr>\n",
       "    <tr>\n",
       "      <th>3</th>\n",
       "      <td>PaymentScreenSuccessful</td>\n",
       "      <td>3539</td>\n",
       "    </tr>\n",
       "    <tr>\n",
       "      <th>4</th>\n",
       "      <td>Tutorial</td>\n",
       "      <td>840</td>\n",
       "    </tr>\n",
       "  </tbody>\n",
       "</table>\n",
       "</div>"
      ],
      "text/plain": [
       "                     event  cnt_users\n",
       "0         MainScreenAppear       7419\n",
       "1       OffersScreenAppear       4593\n",
       "2         CartScreenAppear       3734\n",
       "3  PaymentScreenSuccessful       3539\n",
       "4                 Tutorial        840"
      ]
     },
     "execution_count": 108,
     "metadata": {},
     "output_type": "execute_result"
    }
   ],
   "source": [
    "events_by_users = df.groupby('event').agg({'user_id': 'nunique'}).sort_values('user_id', ascending=False).reset_index()\n",
    "events_by_users.columns = ['event', 'cnt_users']\n",
    "events_by_users"
   ]
  },
  {
   "cell_type": "markdown",
   "metadata": {},
   "source": [
    "Посчитаем долю пользователей, которые хоть раз совершали событие."
   ]
  },
  {
   "cell_type": "code",
   "execution_count": 109,
   "metadata": {},
   "outputs": [
    {
     "data": {
      "text/html": [
       "<style  type=\"text/css\" >\n",
       "</style><table id=\"T_0b25e_\" ><thead>    <tr>        <th class=\"blank level0\" ></th>        <th class=\"col_heading level0 col0\" >event</th>        <th class=\"col_heading level0 col1\" >cnt_users</th>        <th class=\"col_heading level0 col2\" >share</th>    </tr></thead><tbody>\n",
       "                <tr>\n",
       "                        <th id=\"T_0b25e_level0_row0\" class=\"row_heading level0 row0\" >0</th>\n",
       "                        <td id=\"T_0b25e_row0_col0\" class=\"data row0 col0\" >MainScreenAppear</td>\n",
       "                        <td id=\"T_0b25e_row0_col1\" class=\"data row0 col1\" >7419</td>\n",
       "                        <td id=\"T_0b25e_row0_col2\" class=\"data row0 col2\" >98.47%</td>\n",
       "            </tr>\n",
       "            <tr>\n",
       "                        <th id=\"T_0b25e_level0_row1\" class=\"row_heading level0 row1\" >1</th>\n",
       "                        <td id=\"T_0b25e_row1_col0\" class=\"data row1 col0\" >OffersScreenAppear</td>\n",
       "                        <td id=\"T_0b25e_row1_col1\" class=\"data row1 col1\" >4593</td>\n",
       "                        <td id=\"T_0b25e_row1_col2\" class=\"data row1 col2\" >60.96%</td>\n",
       "            </tr>\n",
       "            <tr>\n",
       "                        <th id=\"T_0b25e_level0_row2\" class=\"row_heading level0 row2\" >2</th>\n",
       "                        <td id=\"T_0b25e_row2_col0\" class=\"data row2 col0\" >CartScreenAppear</td>\n",
       "                        <td id=\"T_0b25e_row2_col1\" class=\"data row2 col1\" >3734</td>\n",
       "                        <td id=\"T_0b25e_row2_col2\" class=\"data row2 col2\" >49.56%</td>\n",
       "            </tr>\n",
       "            <tr>\n",
       "                        <th id=\"T_0b25e_level0_row3\" class=\"row_heading level0 row3\" >3</th>\n",
       "                        <td id=\"T_0b25e_row3_col0\" class=\"data row3 col0\" >PaymentScreenSuccessful</td>\n",
       "                        <td id=\"T_0b25e_row3_col1\" class=\"data row3 col1\" >3539</td>\n",
       "                        <td id=\"T_0b25e_row3_col2\" class=\"data row3 col2\" >46.97%</td>\n",
       "            </tr>\n",
       "            <tr>\n",
       "                        <th id=\"T_0b25e_level0_row4\" class=\"row_heading level0 row4\" >4</th>\n",
       "                        <td id=\"T_0b25e_row4_col0\" class=\"data row4 col0\" >Tutorial</td>\n",
       "                        <td id=\"T_0b25e_row4_col1\" class=\"data row4 col1\" >840</td>\n",
       "                        <td id=\"T_0b25e_row4_col2\" class=\"data row4 col2\" >11.15%</td>\n",
       "            </tr>\n",
       "    </tbody></table>"
      ],
      "text/plain": [
       "<pandas.io.formats.style.Styler at 0x7f5e4c961fa0>"
      ]
     },
     "execution_count": 109,
     "metadata": {},
     "output_type": "execute_result"
    }
   ],
   "source": [
    "events_by_users['share'] = events_by_users['cnt_users'] / df['user_id'].nunique()\n",
    "events_by_users.style.format({'share':'{:.2%}'})"
   ]
  },
  {
   "cell_type": "markdown",
   "metadata": {},
   "source": [
    "Странно что на событии оплата 49.56 %, а на событии успешной оплаты 46.97%.Конверсия по этим данным довольно высокая "
   ]
  },
  {
   "cell_type": "markdown",
   "metadata": {},
   "source": [
    "Рассмотрим в каком порядке происходят события. Все ли они выстраиваются в последовательную цепочку? \n",
    "Событие Tutorial- может происходить не зависимо от остальных событий."
   ]
  },
  {
   "cell_type": "code",
   "execution_count": 110,
   "metadata": {},
   "outputs": [
    {
     "data": {
      "application/vnd.plotly.v1+json": {
       "config": {
        "plotlyServerURL": "https://plot.ly"
       },
       "data": [
        {
         "hovertemplate": "values=%{x}<br>labels=%{y}<extra></extra>",
         "legendgroup": "",
         "marker": {
          "color": "#636efa"
         },
         "name": "",
         "orientation": "h",
         "showlegend": false,
         "type": "funnel",
         "x": [
          7419,
          4593,
          3734,
          3539
         ],
         "xaxis": "x",
         "y": [
          "MainScreenAppear",
          "OffersScreenAppear",
          "CartScreenAppear",
          "PaymentScreenSuccessful"
         ],
         "yaxis": "y"
        }
       ],
       "layout": {
        "legend": {
         "tracegroupgap": 0
        },
        "template": {
         "data": {
          "bar": [
           {
            "error_x": {
             "color": "#2a3f5f"
            },
            "error_y": {
             "color": "#2a3f5f"
            },
            "marker": {
             "line": {
              "color": "#E5ECF6",
              "width": 0.5
             },
             "pattern": {
              "fillmode": "overlay",
              "size": 10,
              "solidity": 0.2
             }
            },
            "type": "bar"
           }
          ],
          "barpolar": [
           {
            "marker": {
             "line": {
              "color": "#E5ECF6",
              "width": 0.5
             },
             "pattern": {
              "fillmode": "overlay",
              "size": 10,
              "solidity": 0.2
             }
            },
            "type": "barpolar"
           }
          ],
          "carpet": [
           {
            "aaxis": {
             "endlinecolor": "#2a3f5f",
             "gridcolor": "white",
             "linecolor": "white",
             "minorgridcolor": "white",
             "startlinecolor": "#2a3f5f"
            },
            "baxis": {
             "endlinecolor": "#2a3f5f",
             "gridcolor": "white",
             "linecolor": "white",
             "minorgridcolor": "white",
             "startlinecolor": "#2a3f5f"
            },
            "type": "carpet"
           }
          ],
          "choropleth": [
           {
            "colorbar": {
             "outlinewidth": 0,
             "ticks": ""
            },
            "type": "choropleth"
           }
          ],
          "contour": [
           {
            "colorbar": {
             "outlinewidth": 0,
             "ticks": ""
            },
            "colorscale": [
             [
              0,
              "#0d0887"
             ],
             [
              0.1111111111111111,
              "#46039f"
             ],
             [
              0.2222222222222222,
              "#7201a8"
             ],
             [
              0.3333333333333333,
              "#9c179e"
             ],
             [
              0.4444444444444444,
              "#bd3786"
             ],
             [
              0.5555555555555556,
              "#d8576b"
             ],
             [
              0.6666666666666666,
              "#ed7953"
             ],
             [
              0.7777777777777778,
              "#fb9f3a"
             ],
             [
              0.8888888888888888,
              "#fdca26"
             ],
             [
              1,
              "#f0f921"
             ]
            ],
            "type": "contour"
           }
          ],
          "contourcarpet": [
           {
            "colorbar": {
             "outlinewidth": 0,
             "ticks": ""
            },
            "type": "contourcarpet"
           }
          ],
          "heatmap": [
           {
            "colorbar": {
             "outlinewidth": 0,
             "ticks": ""
            },
            "colorscale": [
             [
              0,
              "#0d0887"
             ],
             [
              0.1111111111111111,
              "#46039f"
             ],
             [
              0.2222222222222222,
              "#7201a8"
             ],
             [
              0.3333333333333333,
              "#9c179e"
             ],
             [
              0.4444444444444444,
              "#bd3786"
             ],
             [
              0.5555555555555556,
              "#d8576b"
             ],
             [
              0.6666666666666666,
              "#ed7953"
             ],
             [
              0.7777777777777778,
              "#fb9f3a"
             ],
             [
              0.8888888888888888,
              "#fdca26"
             ],
             [
              1,
              "#f0f921"
             ]
            ],
            "type": "heatmap"
           }
          ],
          "heatmapgl": [
           {
            "colorbar": {
             "outlinewidth": 0,
             "ticks": ""
            },
            "colorscale": [
             [
              0,
              "#0d0887"
             ],
             [
              0.1111111111111111,
              "#46039f"
             ],
             [
              0.2222222222222222,
              "#7201a8"
             ],
             [
              0.3333333333333333,
              "#9c179e"
             ],
             [
              0.4444444444444444,
              "#bd3786"
             ],
             [
              0.5555555555555556,
              "#d8576b"
             ],
             [
              0.6666666666666666,
              "#ed7953"
             ],
             [
              0.7777777777777778,
              "#fb9f3a"
             ],
             [
              0.8888888888888888,
              "#fdca26"
             ],
             [
              1,
              "#f0f921"
             ]
            ],
            "type": "heatmapgl"
           }
          ],
          "histogram": [
           {
            "marker": {
             "pattern": {
              "fillmode": "overlay",
              "size": 10,
              "solidity": 0.2
             }
            },
            "type": "histogram"
           }
          ],
          "histogram2d": [
           {
            "colorbar": {
             "outlinewidth": 0,
             "ticks": ""
            },
            "colorscale": [
             [
              0,
              "#0d0887"
             ],
             [
              0.1111111111111111,
              "#46039f"
             ],
             [
              0.2222222222222222,
              "#7201a8"
             ],
             [
              0.3333333333333333,
              "#9c179e"
             ],
             [
              0.4444444444444444,
              "#bd3786"
             ],
             [
              0.5555555555555556,
              "#d8576b"
             ],
             [
              0.6666666666666666,
              "#ed7953"
             ],
             [
              0.7777777777777778,
              "#fb9f3a"
             ],
             [
              0.8888888888888888,
              "#fdca26"
             ],
             [
              1,
              "#f0f921"
             ]
            ],
            "type": "histogram2d"
           }
          ],
          "histogram2dcontour": [
           {
            "colorbar": {
             "outlinewidth": 0,
             "ticks": ""
            },
            "colorscale": [
             [
              0,
              "#0d0887"
             ],
             [
              0.1111111111111111,
              "#46039f"
             ],
             [
              0.2222222222222222,
              "#7201a8"
             ],
             [
              0.3333333333333333,
              "#9c179e"
             ],
             [
              0.4444444444444444,
              "#bd3786"
             ],
             [
              0.5555555555555556,
              "#d8576b"
             ],
             [
              0.6666666666666666,
              "#ed7953"
             ],
             [
              0.7777777777777778,
              "#fb9f3a"
             ],
             [
              0.8888888888888888,
              "#fdca26"
             ],
             [
              1,
              "#f0f921"
             ]
            ],
            "type": "histogram2dcontour"
           }
          ],
          "mesh3d": [
           {
            "colorbar": {
             "outlinewidth": 0,
             "ticks": ""
            },
            "type": "mesh3d"
           }
          ],
          "parcoords": [
           {
            "line": {
             "colorbar": {
              "outlinewidth": 0,
              "ticks": ""
             }
            },
            "type": "parcoords"
           }
          ],
          "pie": [
           {
            "automargin": true,
            "type": "pie"
           }
          ],
          "scatter": [
           {
            "marker": {
             "colorbar": {
              "outlinewidth": 0,
              "ticks": ""
             }
            },
            "type": "scatter"
           }
          ],
          "scatter3d": [
           {
            "line": {
             "colorbar": {
              "outlinewidth": 0,
              "ticks": ""
             }
            },
            "marker": {
             "colorbar": {
              "outlinewidth": 0,
              "ticks": ""
             }
            },
            "type": "scatter3d"
           }
          ],
          "scattercarpet": [
           {
            "marker": {
             "colorbar": {
              "outlinewidth": 0,
              "ticks": ""
             }
            },
            "type": "scattercarpet"
           }
          ],
          "scattergeo": [
           {
            "marker": {
             "colorbar": {
              "outlinewidth": 0,
              "ticks": ""
             }
            },
            "type": "scattergeo"
           }
          ],
          "scattergl": [
           {
            "marker": {
             "colorbar": {
              "outlinewidth": 0,
              "ticks": ""
             }
            },
            "type": "scattergl"
           }
          ],
          "scattermapbox": [
           {
            "marker": {
             "colorbar": {
              "outlinewidth": 0,
              "ticks": ""
             }
            },
            "type": "scattermapbox"
           }
          ],
          "scatterpolar": [
           {
            "marker": {
             "colorbar": {
              "outlinewidth": 0,
              "ticks": ""
             }
            },
            "type": "scatterpolar"
           }
          ],
          "scatterpolargl": [
           {
            "marker": {
             "colorbar": {
              "outlinewidth": 0,
              "ticks": ""
             }
            },
            "type": "scatterpolargl"
           }
          ],
          "scatterternary": [
           {
            "marker": {
             "colorbar": {
              "outlinewidth": 0,
              "ticks": ""
             }
            },
            "type": "scatterternary"
           }
          ],
          "surface": [
           {
            "colorbar": {
             "outlinewidth": 0,
             "ticks": ""
            },
            "colorscale": [
             [
              0,
              "#0d0887"
             ],
             [
              0.1111111111111111,
              "#46039f"
             ],
             [
              0.2222222222222222,
              "#7201a8"
             ],
             [
              0.3333333333333333,
              "#9c179e"
             ],
             [
              0.4444444444444444,
              "#bd3786"
             ],
             [
              0.5555555555555556,
              "#d8576b"
             ],
             [
              0.6666666666666666,
              "#ed7953"
             ],
             [
              0.7777777777777778,
              "#fb9f3a"
             ],
             [
              0.8888888888888888,
              "#fdca26"
             ],
             [
              1,
              "#f0f921"
             ]
            ],
            "type": "surface"
           }
          ],
          "table": [
           {
            "cells": {
             "fill": {
              "color": "#EBF0F8"
             },
             "line": {
              "color": "white"
             }
            },
            "header": {
             "fill": {
              "color": "#C8D4E3"
             },
             "line": {
              "color": "white"
             }
            },
            "type": "table"
           }
          ]
         },
         "layout": {
          "annotationdefaults": {
           "arrowcolor": "#2a3f5f",
           "arrowhead": 0,
           "arrowwidth": 1
          },
          "autotypenumbers": "strict",
          "coloraxis": {
           "colorbar": {
            "outlinewidth": 0,
            "ticks": ""
           }
          },
          "colorscale": {
           "diverging": [
            [
             0,
             "#8e0152"
            ],
            [
             0.1,
             "#c51b7d"
            ],
            [
             0.2,
             "#de77ae"
            ],
            [
             0.3,
             "#f1b6da"
            ],
            [
             0.4,
             "#fde0ef"
            ],
            [
             0.5,
             "#f7f7f7"
            ],
            [
             0.6,
             "#e6f5d0"
            ],
            [
             0.7,
             "#b8e186"
            ],
            [
             0.8,
             "#7fbc41"
            ],
            [
             0.9,
             "#4d9221"
            ],
            [
             1,
             "#276419"
            ]
           ],
           "sequential": [
            [
             0,
             "#0d0887"
            ],
            [
             0.1111111111111111,
             "#46039f"
            ],
            [
             0.2222222222222222,
             "#7201a8"
            ],
            [
             0.3333333333333333,
             "#9c179e"
            ],
            [
             0.4444444444444444,
             "#bd3786"
            ],
            [
             0.5555555555555556,
             "#d8576b"
            ],
            [
             0.6666666666666666,
             "#ed7953"
            ],
            [
             0.7777777777777778,
             "#fb9f3a"
            ],
            [
             0.8888888888888888,
             "#fdca26"
            ],
            [
             1,
             "#f0f921"
            ]
           ],
           "sequentialminus": [
            [
             0,
             "#0d0887"
            ],
            [
             0.1111111111111111,
             "#46039f"
            ],
            [
             0.2222222222222222,
             "#7201a8"
            ],
            [
             0.3333333333333333,
             "#9c179e"
            ],
            [
             0.4444444444444444,
             "#bd3786"
            ],
            [
             0.5555555555555556,
             "#d8576b"
            ],
            [
             0.6666666666666666,
             "#ed7953"
            ],
            [
             0.7777777777777778,
             "#fb9f3a"
            ],
            [
             0.8888888888888888,
             "#fdca26"
            ],
            [
             1,
             "#f0f921"
            ]
           ]
          },
          "colorway": [
           "#636efa",
           "#EF553B",
           "#00cc96",
           "#ab63fa",
           "#FFA15A",
           "#19d3f3",
           "#FF6692",
           "#B6E880",
           "#FF97FF",
           "#FECB52"
          ],
          "font": {
           "color": "#2a3f5f"
          },
          "geo": {
           "bgcolor": "white",
           "lakecolor": "white",
           "landcolor": "#E5ECF6",
           "showlakes": true,
           "showland": true,
           "subunitcolor": "white"
          },
          "hoverlabel": {
           "align": "left"
          },
          "hovermode": "closest",
          "mapbox": {
           "style": "light"
          },
          "paper_bgcolor": "white",
          "plot_bgcolor": "#E5ECF6",
          "polar": {
           "angularaxis": {
            "gridcolor": "white",
            "linecolor": "white",
            "ticks": ""
           },
           "bgcolor": "#E5ECF6",
           "radialaxis": {
            "gridcolor": "white",
            "linecolor": "white",
            "ticks": ""
           }
          },
          "scene": {
           "xaxis": {
            "backgroundcolor": "#E5ECF6",
            "gridcolor": "white",
            "gridwidth": 2,
            "linecolor": "white",
            "showbackground": true,
            "ticks": "",
            "zerolinecolor": "white"
           },
           "yaxis": {
            "backgroundcolor": "#E5ECF6",
            "gridcolor": "white",
            "gridwidth": 2,
            "linecolor": "white",
            "showbackground": true,
            "ticks": "",
            "zerolinecolor": "white"
           },
           "zaxis": {
            "backgroundcolor": "#E5ECF6",
            "gridcolor": "white",
            "gridwidth": 2,
            "linecolor": "white",
            "showbackground": true,
            "ticks": "",
            "zerolinecolor": "white"
           }
          },
          "shapedefaults": {
           "line": {
            "color": "#2a3f5f"
           }
          },
          "ternary": {
           "aaxis": {
            "gridcolor": "white",
            "linecolor": "white",
            "ticks": ""
           },
           "baxis": {
            "gridcolor": "white",
            "linecolor": "white",
            "ticks": ""
           },
           "bgcolor": "#E5ECF6",
           "caxis": {
            "gridcolor": "white",
            "linecolor": "white",
            "ticks": ""
           }
          },
          "title": {
           "x": 0.05
          },
          "xaxis": {
           "automargin": true,
           "gridcolor": "white",
           "linecolor": "white",
           "ticks": "",
           "title": {
            "standoff": 15
           },
           "zerolinecolor": "white",
           "zerolinewidth": 2
          },
          "yaxis": {
           "automargin": true,
           "gridcolor": "white",
           "linecolor": "white",
           "ticks": "",
           "title": {
            "standoff": 15
           },
           "zerolinecolor": "white",
           "zerolinewidth": 2
          }
         }
        },
        "title": {
         "text": "Воронка продаж"
        },
        "xaxis": {
         "anchor": "y",
         "domain": [
          0,
          1
         ],
         "title": {
          "text": "values"
         }
        },
        "yaxis": {
         "anchor": "x",
         "domain": [
          0,
          1
         ],
         "title": {
          "text": "labels"
         }
        }
       }
      },
      "text/html": [
       "<div>                            <div id=\"5390d5ca-6c17-499f-aa1e-076049195803\" class=\"plotly-graph-div\" style=\"height:525px; width:100%;\"></div>            <script type=\"text/javascript\">                require([\"plotly\"], function(Plotly) {                    window.PLOTLYENV=window.PLOTLYENV || {};                                    if (document.getElementById(\"5390d5ca-6c17-499f-aa1e-076049195803\")) {                    Plotly.newPlot(                        \"5390d5ca-6c17-499f-aa1e-076049195803\",                        [{\"hovertemplate\":\"values=%{x}<br>labels=%{y}<extra></extra>\",\"legendgroup\":\"\",\"marker\":{\"color\":\"#636efa\"},\"name\":\"\",\"orientation\":\"h\",\"showlegend\":false,\"x\":[7419,4593,3734,3539],\"xaxis\":\"x\",\"y\":[\"MainScreenAppear\",\"OffersScreenAppear\",\"CartScreenAppear\",\"PaymentScreenSuccessful\"],\"yaxis\":\"y\",\"type\":\"funnel\"}],                        {\"template\":{\"data\":{\"bar\":[{\"error_x\":{\"color\":\"#2a3f5f\"},\"error_y\":{\"color\":\"#2a3f5f\"},\"marker\":{\"line\":{\"color\":\"#E5ECF6\",\"width\":0.5},\"pattern\":{\"fillmode\":\"overlay\",\"size\":10,\"solidity\":0.2}},\"type\":\"bar\"}],\"barpolar\":[{\"marker\":{\"line\":{\"color\":\"#E5ECF6\",\"width\":0.5},\"pattern\":{\"fillmode\":\"overlay\",\"size\":10,\"solidity\":0.2}},\"type\":\"barpolar\"}],\"carpet\":[{\"aaxis\":{\"endlinecolor\":\"#2a3f5f\",\"gridcolor\":\"white\",\"linecolor\":\"white\",\"minorgridcolor\":\"white\",\"startlinecolor\":\"#2a3f5f\"},\"baxis\":{\"endlinecolor\":\"#2a3f5f\",\"gridcolor\":\"white\",\"linecolor\":\"white\",\"minorgridcolor\":\"white\",\"startlinecolor\":\"#2a3f5f\"},\"type\":\"carpet\"}],\"choropleth\":[{\"colorbar\":{\"outlinewidth\":0,\"ticks\":\"\"},\"type\":\"choropleth\"}],\"contour\":[{\"colorbar\":{\"outlinewidth\":0,\"ticks\":\"\"},\"colorscale\":[[0.0,\"#0d0887\"],[0.1111111111111111,\"#46039f\"],[0.2222222222222222,\"#7201a8\"],[0.3333333333333333,\"#9c179e\"],[0.4444444444444444,\"#bd3786\"],[0.5555555555555556,\"#d8576b\"],[0.6666666666666666,\"#ed7953\"],[0.7777777777777778,\"#fb9f3a\"],[0.8888888888888888,\"#fdca26\"],[1.0,\"#f0f921\"]],\"type\":\"contour\"}],\"contourcarpet\":[{\"colorbar\":{\"outlinewidth\":0,\"ticks\":\"\"},\"type\":\"contourcarpet\"}],\"heatmap\":[{\"colorbar\":{\"outlinewidth\":0,\"ticks\":\"\"},\"colorscale\":[[0.0,\"#0d0887\"],[0.1111111111111111,\"#46039f\"],[0.2222222222222222,\"#7201a8\"],[0.3333333333333333,\"#9c179e\"],[0.4444444444444444,\"#bd3786\"],[0.5555555555555556,\"#d8576b\"],[0.6666666666666666,\"#ed7953\"],[0.7777777777777778,\"#fb9f3a\"],[0.8888888888888888,\"#fdca26\"],[1.0,\"#f0f921\"]],\"type\":\"heatmap\"}],\"heatmapgl\":[{\"colorbar\":{\"outlinewidth\":0,\"ticks\":\"\"},\"colorscale\":[[0.0,\"#0d0887\"],[0.1111111111111111,\"#46039f\"],[0.2222222222222222,\"#7201a8\"],[0.3333333333333333,\"#9c179e\"],[0.4444444444444444,\"#bd3786\"],[0.5555555555555556,\"#d8576b\"],[0.6666666666666666,\"#ed7953\"],[0.7777777777777778,\"#fb9f3a\"],[0.8888888888888888,\"#fdca26\"],[1.0,\"#f0f921\"]],\"type\":\"heatmapgl\"}],\"histogram\":[{\"marker\":{\"pattern\":{\"fillmode\":\"overlay\",\"size\":10,\"solidity\":0.2}},\"type\":\"histogram\"}],\"histogram2d\":[{\"colorbar\":{\"outlinewidth\":0,\"ticks\":\"\"},\"colorscale\":[[0.0,\"#0d0887\"],[0.1111111111111111,\"#46039f\"],[0.2222222222222222,\"#7201a8\"],[0.3333333333333333,\"#9c179e\"],[0.4444444444444444,\"#bd3786\"],[0.5555555555555556,\"#d8576b\"],[0.6666666666666666,\"#ed7953\"],[0.7777777777777778,\"#fb9f3a\"],[0.8888888888888888,\"#fdca26\"],[1.0,\"#f0f921\"]],\"type\":\"histogram2d\"}],\"histogram2dcontour\":[{\"colorbar\":{\"outlinewidth\":0,\"ticks\":\"\"},\"colorscale\":[[0.0,\"#0d0887\"],[0.1111111111111111,\"#46039f\"],[0.2222222222222222,\"#7201a8\"],[0.3333333333333333,\"#9c179e\"],[0.4444444444444444,\"#bd3786\"],[0.5555555555555556,\"#d8576b\"],[0.6666666666666666,\"#ed7953\"],[0.7777777777777778,\"#fb9f3a\"],[0.8888888888888888,\"#fdca26\"],[1.0,\"#f0f921\"]],\"type\":\"histogram2dcontour\"}],\"mesh3d\":[{\"colorbar\":{\"outlinewidth\":0,\"ticks\":\"\"},\"type\":\"mesh3d\"}],\"parcoords\":[{\"line\":{\"colorbar\":{\"outlinewidth\":0,\"ticks\":\"\"}},\"type\":\"parcoords\"}],\"pie\":[{\"automargin\":true,\"type\":\"pie\"}],\"scatter\":[{\"marker\":{\"colorbar\":{\"outlinewidth\":0,\"ticks\":\"\"}},\"type\":\"scatter\"}],\"scatter3d\":[{\"line\":{\"colorbar\":{\"outlinewidth\":0,\"ticks\":\"\"}},\"marker\":{\"colorbar\":{\"outlinewidth\":0,\"ticks\":\"\"}},\"type\":\"scatter3d\"}],\"scattercarpet\":[{\"marker\":{\"colorbar\":{\"outlinewidth\":0,\"ticks\":\"\"}},\"type\":\"scattercarpet\"}],\"scattergeo\":[{\"marker\":{\"colorbar\":{\"outlinewidth\":0,\"ticks\":\"\"}},\"type\":\"scattergeo\"}],\"scattergl\":[{\"marker\":{\"colorbar\":{\"outlinewidth\":0,\"ticks\":\"\"}},\"type\":\"scattergl\"}],\"scattermapbox\":[{\"marker\":{\"colorbar\":{\"outlinewidth\":0,\"ticks\":\"\"}},\"type\":\"scattermapbox\"}],\"scatterpolar\":[{\"marker\":{\"colorbar\":{\"outlinewidth\":0,\"ticks\":\"\"}},\"type\":\"scatterpolar\"}],\"scatterpolargl\":[{\"marker\":{\"colorbar\":{\"outlinewidth\":0,\"ticks\":\"\"}},\"type\":\"scatterpolargl\"}],\"scatterternary\":[{\"marker\":{\"colorbar\":{\"outlinewidth\":0,\"ticks\":\"\"}},\"type\":\"scatterternary\"}],\"surface\":[{\"colorbar\":{\"outlinewidth\":0,\"ticks\":\"\"},\"colorscale\":[[0.0,\"#0d0887\"],[0.1111111111111111,\"#46039f\"],[0.2222222222222222,\"#7201a8\"],[0.3333333333333333,\"#9c179e\"],[0.4444444444444444,\"#bd3786\"],[0.5555555555555556,\"#d8576b\"],[0.6666666666666666,\"#ed7953\"],[0.7777777777777778,\"#fb9f3a\"],[0.8888888888888888,\"#fdca26\"],[1.0,\"#f0f921\"]],\"type\":\"surface\"}],\"table\":[{\"cells\":{\"fill\":{\"color\":\"#EBF0F8\"},\"line\":{\"color\":\"white\"}},\"header\":{\"fill\":{\"color\":\"#C8D4E3\"},\"line\":{\"color\":\"white\"}},\"type\":\"table\"}]},\"layout\":{\"annotationdefaults\":{\"arrowcolor\":\"#2a3f5f\",\"arrowhead\":0,\"arrowwidth\":1},\"autotypenumbers\":\"strict\",\"coloraxis\":{\"colorbar\":{\"outlinewidth\":0,\"ticks\":\"\"}},\"colorscale\":{\"diverging\":[[0,\"#8e0152\"],[0.1,\"#c51b7d\"],[0.2,\"#de77ae\"],[0.3,\"#f1b6da\"],[0.4,\"#fde0ef\"],[0.5,\"#f7f7f7\"],[0.6,\"#e6f5d0\"],[0.7,\"#b8e186\"],[0.8,\"#7fbc41\"],[0.9,\"#4d9221\"],[1,\"#276419\"]],\"sequential\":[[0.0,\"#0d0887\"],[0.1111111111111111,\"#46039f\"],[0.2222222222222222,\"#7201a8\"],[0.3333333333333333,\"#9c179e\"],[0.4444444444444444,\"#bd3786\"],[0.5555555555555556,\"#d8576b\"],[0.6666666666666666,\"#ed7953\"],[0.7777777777777778,\"#fb9f3a\"],[0.8888888888888888,\"#fdca26\"],[1.0,\"#f0f921\"]],\"sequentialminus\":[[0.0,\"#0d0887\"],[0.1111111111111111,\"#46039f\"],[0.2222222222222222,\"#7201a8\"],[0.3333333333333333,\"#9c179e\"],[0.4444444444444444,\"#bd3786\"],[0.5555555555555556,\"#d8576b\"],[0.6666666666666666,\"#ed7953\"],[0.7777777777777778,\"#fb9f3a\"],[0.8888888888888888,\"#fdca26\"],[1.0,\"#f0f921\"]]},\"colorway\":[\"#636efa\",\"#EF553B\",\"#00cc96\",\"#ab63fa\",\"#FFA15A\",\"#19d3f3\",\"#FF6692\",\"#B6E880\",\"#FF97FF\",\"#FECB52\"],\"font\":{\"color\":\"#2a3f5f\"},\"geo\":{\"bgcolor\":\"white\",\"lakecolor\":\"white\",\"landcolor\":\"#E5ECF6\",\"showlakes\":true,\"showland\":true,\"subunitcolor\":\"white\"},\"hoverlabel\":{\"align\":\"left\"},\"hovermode\":\"closest\",\"mapbox\":{\"style\":\"light\"},\"paper_bgcolor\":\"white\",\"plot_bgcolor\":\"#E5ECF6\",\"polar\":{\"angularaxis\":{\"gridcolor\":\"white\",\"linecolor\":\"white\",\"ticks\":\"\"},\"bgcolor\":\"#E5ECF6\",\"radialaxis\":{\"gridcolor\":\"white\",\"linecolor\":\"white\",\"ticks\":\"\"}},\"scene\":{\"xaxis\":{\"backgroundcolor\":\"#E5ECF6\",\"gridcolor\":\"white\",\"gridwidth\":2,\"linecolor\":\"white\",\"showbackground\":true,\"ticks\":\"\",\"zerolinecolor\":\"white\"},\"yaxis\":{\"backgroundcolor\":\"#E5ECF6\",\"gridcolor\":\"white\",\"gridwidth\":2,\"linecolor\":\"white\",\"showbackground\":true,\"ticks\":\"\",\"zerolinecolor\":\"white\"},\"zaxis\":{\"backgroundcolor\":\"#E5ECF6\",\"gridcolor\":\"white\",\"gridwidth\":2,\"linecolor\":\"white\",\"showbackground\":true,\"ticks\":\"\",\"zerolinecolor\":\"white\"}},\"shapedefaults\":{\"line\":{\"color\":\"#2a3f5f\"}},\"ternary\":{\"aaxis\":{\"gridcolor\":\"white\",\"linecolor\":\"white\",\"ticks\":\"\"},\"baxis\":{\"gridcolor\":\"white\",\"linecolor\":\"white\",\"ticks\":\"\"},\"bgcolor\":\"#E5ECF6\",\"caxis\":{\"gridcolor\":\"white\",\"linecolor\":\"white\",\"ticks\":\"\"}},\"title\":{\"x\":0.05},\"xaxis\":{\"automargin\":true,\"gridcolor\":\"white\",\"linecolor\":\"white\",\"ticks\":\"\",\"title\":{\"standoff\":15},\"zerolinecolor\":\"white\",\"zerolinewidth\":2},\"yaxis\":{\"automargin\":true,\"gridcolor\":\"white\",\"linecolor\":\"white\",\"ticks\":\"\",\"title\":{\"standoff\":15},\"zerolinecolor\":\"white\",\"zerolinewidth\":2}}},\"xaxis\":{\"anchor\":\"y\",\"domain\":[0.0,1.0],\"title\":{\"text\":\"values\"}},\"yaxis\":{\"anchor\":\"x\",\"domain\":[0.0,1.0],\"title\":{\"text\":\"labels\"}},\"legend\":{\"tracegroupgap\":0},\"title\":{\"text\":\"\\u0412\\u043e\\u0440\\u043e\\u043d\\u043a\\u0430 \\u043f\\u0440\\u043e\\u0434\\u0430\\u0436\"}},                        {\"responsive\": true}                    ).then(function(){\n",
       "                            \n",
       "var gd = document.getElementById('5390d5ca-6c17-499f-aa1e-076049195803');\n",
       "var x = new MutationObserver(function (mutations, observer) {{\n",
       "        var display = window.getComputedStyle(gd).display;\n",
       "        if (!display || display === 'none') {{\n",
       "            console.log([gd, 'removed!']);\n",
       "            Plotly.purge(gd);\n",
       "            observer.disconnect();\n",
       "        }}\n",
       "}});\n",
       "\n",
       "// Listen for the removal of the full notebook cells\n",
       "var notebookContainer = gd.closest('#notebook-container');\n",
       "if (notebookContainer) {{\n",
       "    x.observe(notebookContainer, {childList: true});\n",
       "}}\n",
       "\n",
       "// Listen for the clearing of the current output cell\n",
       "var outputEl = gd.closest('.output');\n",
       "if (outputEl) {{\n",
       "    x.observe(outputEl, {childList: true});\n",
       "}}\n",
       "\n",
       "                        })                };                });            </script>        </div>"
      ]
     },
     "metadata": {},
     "output_type": "display_data"
    }
   ],
   "source": [
    "funnel = events_by_users[['event', 'cnt_users']].query('event != \"Tutorial\"')\n",
    "data = dict(values=funnel['cnt_users'].to_list(),\n",
    "            labels=funnel['event'].to_list())\n",
    "fig = px.funnel(data,  y='labels', x='values', title='Воронка продаж')\n",
    "fig.show()"
   ]
  },
  {
   "cell_type": "markdown",
   "metadata": {},
   "source": [
    "По воронке событий посчитайте, какая доля пользователей проходит на следующий шаг воронки (от числа пользователей на предыдущем). То есть для последовательности событий A → B → C посчитайте отношение числа пользователей с событием B к количеству пользователей с событием A, а также отношение числа пользователей с событием C к количеству пользователей с событием B."
   ]
  },
  {
   "cell_type": "code",
   "execution_count": 111,
   "metadata": {},
   "outputs": [
    {
     "data": {
      "text/html": [
       "<div>\n",
       "<style scoped>\n",
       "    .dataframe tbody tr th:only-of-type {\n",
       "        vertical-align: middle;\n",
       "    }\n",
       "\n",
       "    .dataframe tbody tr th {\n",
       "        vertical-align: top;\n",
       "    }\n",
       "\n",
       "    .dataframe thead th {\n",
       "        text-align: right;\n",
       "    }\n",
       "</style>\n",
       "<table border=\"1\" class=\"dataframe\">\n",
       "  <thead>\n",
       "    <tr style=\"text-align: right;\">\n",
       "      <th></th>\n",
       "      <th>event</th>\n",
       "      <th>cnt_users</th>\n",
       "      <th>conversion_per_step</th>\n",
       "    </tr>\n",
       "  </thead>\n",
       "  <tbody>\n",
       "    <tr>\n",
       "      <th>0</th>\n",
       "      <td>MainScreenAppear</td>\n",
       "      <td>7419</td>\n",
       "      <td>100.00</td>\n",
       "    </tr>\n",
       "    <tr>\n",
       "      <th>1</th>\n",
       "      <td>OffersScreenAppear</td>\n",
       "      <td>4593</td>\n",
       "      <td>61.91</td>\n",
       "    </tr>\n",
       "    <tr>\n",
       "      <th>2</th>\n",
       "      <td>CartScreenAppear</td>\n",
       "      <td>3734</td>\n",
       "      <td>81.30</td>\n",
       "    </tr>\n",
       "    <tr>\n",
       "      <th>3</th>\n",
       "      <td>PaymentScreenSuccessful</td>\n",
       "      <td>3539</td>\n",
       "      <td>94.78</td>\n",
       "    </tr>\n",
       "  </tbody>\n",
       "</table>\n",
       "</div>"
      ],
      "text/plain": [
       "                     event  cnt_users  conversion_per_step\n",
       "0         MainScreenAppear       7419               100.00\n",
       "1       OffersScreenAppear       4593                61.91\n",
       "2         CartScreenAppear       3734                81.30\n",
       "3  PaymentScreenSuccessful       3539                94.78"
      ]
     },
     "execution_count": 111,
     "metadata": {},
     "output_type": "execute_result"
    }
   ],
   "source": [
    "funnel['conversion_per_step'] = 0\n",
    "\n",
    "for index in range(0, len(funnel)):\n",
    "    if index == 0:\n",
    "        funnel.loc[index, 'conversion_per_step'] = 100\n",
    "    else:\n",
    "        funnel.loc[index, 'conversion_per_step'] = round(funnel.loc[index, 'cnt_users'] * 100 / funnel.loc[index - 1, 'cnt_users'], 2)\n",
    "funnel"
   ]
  },
  {
   "cell_type": "markdown",
   "metadata": {},
   "source": [
    "Больше всего пользователей теряется при переходе от главного экрана к экрану с предложением, не доходит около 40%. Если в мобильном приложении есть опция сразу отправлять товар в корзину, не заходя на страницу с продуктом, это может объяснить высокую конверсию в 80% на следующем шаге."
   ]
  },
  {
   "cell_type": "code",
   "execution_count": 112,
   "metadata": {},
   "outputs": [
    {
     "data": {
      "text/html": [
       "<div>\n",
       "<style scoped>\n",
       "    .dataframe tbody tr th:only-of-type {\n",
       "        vertical-align: middle;\n",
       "    }\n",
       "\n",
       "    .dataframe tbody tr th {\n",
       "        vertical-align: top;\n",
       "    }\n",
       "\n",
       "    .dataframe thead th {\n",
       "        text-align: right;\n",
       "    }\n",
       "</style>\n",
       "<table border=\"1\" class=\"dataframe\">\n",
       "  <thead>\n",
       "    <tr style=\"text-align: right;\">\n",
       "      <th></th>\n",
       "      <th>event</th>\n",
       "      <th>cnt_users</th>\n",
       "      <th>conversion_per_step</th>\n",
       "      <th>conversion</th>\n",
       "    </tr>\n",
       "  </thead>\n",
       "  <tbody>\n",
       "    <tr>\n",
       "      <th>0</th>\n",
       "      <td>MainScreenAppear</td>\n",
       "      <td>7419</td>\n",
       "      <td>100.00</td>\n",
       "      <td>100.00</td>\n",
       "    </tr>\n",
       "    <tr>\n",
       "      <th>1</th>\n",
       "      <td>OffersScreenAppear</td>\n",
       "      <td>4593</td>\n",
       "      <td>61.91</td>\n",
       "      <td>61.91</td>\n",
       "    </tr>\n",
       "    <tr>\n",
       "      <th>2</th>\n",
       "      <td>CartScreenAppear</td>\n",
       "      <td>3734</td>\n",
       "      <td>81.30</td>\n",
       "      <td>50.33</td>\n",
       "    </tr>\n",
       "    <tr>\n",
       "      <th>3</th>\n",
       "      <td>PaymentScreenSuccessful</td>\n",
       "      <td>3539</td>\n",
       "      <td>94.78</td>\n",
       "      <td>47.70</td>\n",
       "    </tr>\n",
       "  </tbody>\n",
       "</table>\n",
       "</div>"
      ],
      "text/plain": [
       "                     event  cnt_users  conversion_per_step  conversion\n",
       "0         MainScreenAppear       7419               100.00      100.00\n",
       "1       OffersScreenAppear       4593                61.91       61.91\n",
       "2         CartScreenAppear       3734                81.30       50.33\n",
       "3  PaymentScreenSuccessful       3539                94.78       47.70"
      ]
     },
     "execution_count": 112,
     "metadata": {},
     "output_type": "execute_result"
    }
   ],
   "source": [
    "funnel['conversion'] = 0\n",
    "\n",
    "for index in range(0, len(funnel)):\n",
    "    if index == 0:\n",
    "        funnel.loc[index, 'conversion'] = 100\n",
    "    else:\n",
    "        funnel.loc[index, 'conversion'] = round(funnel.loc[index, 'cnt_users'] * 100 / funnel.loc[0, 'cnt_users'], 2)\n",
    "funnel"
   ]
  },
  {
   "cell_type": "markdown",
   "metadata": {},
   "source": [
    "Всего в воронке 5 событий:\n",
    "\n",
    "Main Screen Appear- Появление главного экрана\n",
    "\n",
    "OffersScreenAppear- Появление экрана предложений\n",
    "\n",
    "CartScreenAppear- Появление экрана корзины\n",
    "\n",
    "PaymentScreenSuccessful-Экран оплаты успешно\n",
    "\n",
    "Tutorial-Руководство\n",
    "\n",
    "Все пользователи ( 100%) совершают одно событие - посещают главную страницу, от главной страницы до успешной оплаты доходит 47.7 процентов пользователей, 61,91 % пользователей смотрят предложения на сайте, к ступеньке воронки CartScreenAppear доходит 50,33 процента, возможно люди не увидели для себя интересных предложений. Всего 47.70 % доходят до оплаты, что не плохо. Больше всего поьзователей терряется на шаге перехода от главной страницы к экрану предложения.\n",
    "Если в мобильном приложении есть опция сразу отправлять товар в корзину, не заходя на страницу с продуктом, это может объяснить высокую конверсию в 80% на следующем шаге."
   ]
  },
  {
   "cell_type": "code",
   "execution_count": null,
   "metadata": {},
   "outputs": [],
   "source": [
    "от главной страницы до успешной оплаты доходит 47.7 процентов пользователей"
   ]
  },
  {
   "cell_type": "markdown",
   "metadata": {},
   "source": [
    "Изучите результаты эксперимента\n",
    "•\tСколько пользователей в каждой экспериментальной группе?\n",
    "•\tЕсть 2 контрольные группы для А/А-эксперимента, чтобы проверить корректность всех механизмов и расчётов. Проверьте, находят ли статистические критерии разницу между выборками 246 и 247.\n",
    "•\tВыберите самое популярное событие. Посчитайте число пользователей, совершивших это событие в каждой из контрольных групп. Посчитайте долю пользователей, совершивших это событие. Проверьте, будет ли отличие между группами статистически достоверным. Проделайте то же самое для всех других событий (удобно обернуть проверку в отдельную функцию). Можно ли сказать, что разбиение на группы работает корректно?\n",
    "•\tАналогично поступите с группой с изменённым шрифтом. Сравните результаты с каждой из контрольных групп в отдельности по каждому событию. Сравните результаты с объединённой контрольной группой. Какие выводы из эксперимента можно сделать?\n",
    "•\tКакой уровень значимости вы выбрали при проверке статистических гипотез выше? Посчитайте, сколько проверок статистических гипотез вы сделали. При уровне значимости 0.1 каждый десятый раз можно получать ложный результат. Какой уровень значимости стоит применить? Если вы хотите изменить его, проделайте предыдущие пункты и проверьте свои выводы.\n"
   ]
  },
  {
   "cell_type": "code",
   "execution_count": 113,
   "metadata": {},
   "outputs": [
    {
     "data": {
      "text/html": [
       "<div>\n",
       "<style scoped>\n",
       "    .dataframe tbody tr th:only-of-type {\n",
       "        vertical-align: middle;\n",
       "    }\n",
       "\n",
       "    .dataframe tbody tr th {\n",
       "        vertical-align: top;\n",
       "    }\n",
       "\n",
       "    .dataframe thead th {\n",
       "        text-align: right;\n",
       "    }\n",
       "</style>\n",
       "<table border=\"1\" class=\"dataframe\">\n",
       "  <thead>\n",
       "    <tr style=\"text-align: right;\">\n",
       "      <th></th>\n",
       "      <th>user_id</th>\n",
       "    </tr>\n",
       "    <tr>\n",
       "      <th>test_group</th>\n",
       "      <th></th>\n",
       "    </tr>\n",
       "  </thead>\n",
       "  <tbody>\n",
       "    <tr>\n",
       "      <th>246</th>\n",
       "      <td>2484</td>\n",
       "    </tr>\n",
       "    <tr>\n",
       "      <th>247</th>\n",
       "      <td>2513</td>\n",
       "    </tr>\n",
       "    <tr>\n",
       "      <th>248</th>\n",
       "      <td>2537</td>\n",
       "    </tr>\n",
       "  </tbody>\n",
       "</table>\n",
       "</div>"
      ],
      "text/plain": [
       "            user_id\n",
       "test_group         \n",
       "246            2484\n",
       "247            2513\n",
       "248            2537"
      ]
     },
     "execution_count": 113,
     "metadata": {},
     "output_type": "execute_result"
    }
   ],
   "source": [
    "#Еще раз проверим, что у нас есть пользователи из всех трёх экспериментальных групп.\n",
    "df.groupby('test_group').agg({'user_id': 'nunique'})"
   ]
  },
  {
   "cell_type": "code",
   "execution_count": 114,
   "metadata": {},
   "outputs": [
    {
     "data": {
      "text/html": [
       "<style  type=\"text/css\" >\n",
       "</style><table id=\"T_4d30e_\" ><thead>    <tr>        <th class=\"blank level0\" ></th>        <th class=\"col_heading level0 col0\" >count_users</th>        <th class=\"col_heading level0 col1\" >share_users</th>    </tr>    <tr>        <th class=\"index_name level0\" >test_group</th>        <th class=\"blank\" ></th>        <th class=\"blank\" ></th>    </tr></thead><tbody>\n",
       "                <tr>\n",
       "                        <th id=\"T_4d30e_level0_row0\" class=\"row_heading level0 row0\" >246</th>\n",
       "                        <td id=\"T_4d30e_row0_col0\" class=\"data row0 col0\" >2450</td>\n",
       "                        <td id=\"T_4d30e_row0_col1\" class=\"data row0 col1\" >98.63%</td>\n",
       "            </tr>\n",
       "            <tr>\n",
       "                        <th id=\"T_4d30e_level0_row1\" class=\"row_heading level0 row1\" >247</th>\n",
       "                        <td id=\"T_4d30e_row1_col0\" class=\"data row1 col0\" >2476</td>\n",
       "                        <td id=\"T_4d30e_row1_col1\" class=\"data row1 col1\" >98.53%</td>\n",
       "            </tr>\n",
       "    </tbody></table>"
      ],
      "text/plain": [
       "<pandas.io.formats.style.Styler at 0x7f5e4e538a30>"
      ]
     },
     "execution_count": 114,
     "metadata": {},
     "output_type": "execute_result"
    }
   ],
   "source": [
    "check_groups = df.query('event == \"MainScreenAppear\" & (test_group == 246 | test_group == 247)').groupby('test_group').agg({'user_id':'nunique'})\n",
    "check_groups.columns = ['count_users']\n",
    "total_246 = df.query('test_group == 246')['user_id'].nunique()\n",
    "total_247 = df.query('test_group == 247')['user_id'].nunique()\n",
    "check_groups.loc[246, 'share_users'] = check_groups.loc[246, 'count_users'] / total_246\n",
    "check_groups.loc[247, 'share_users'] = check_groups.loc[247, 'count_users'] / total_247\n",
    "check_groups.style.format({'share_users':'{:.2%}'})"
   ]
  },
  {
   "cell_type": "markdown",
   "metadata": {},
   "source": [
    "Сфомулируем гипотезы :\n",
    "Н0- различий в долях между группами нет;\n",
    "Н1- различия в долях между гуппами есть;"
   ]
  },
  {
   "cell_type": "code",
   "execution_count": 115,
   "metadata": {},
   "outputs": [],
   "source": [
    "def test_z(group1, group2, event, alpha):\n",
    "\n",
    "    def successes_trials(group1, group2, event):\n",
    "    \n",
    "        successes = np.array([df.query(f'test_group == {group1} & event == \"{event}\"')['user_id'].nunique(),\\\n",
    "                          df.query(f'test_group == {group2} & event == \"{event}\"')['user_id'].nunique()])\n",
    "\n",
    "        trials = np.array([df.query(f'test_group == {group1}')['user_id'].nunique(),\\\n",
    "                           df.query(f'test_group == {group2}')['user_id'].nunique()])\n",
    "        return successes, trials\n",
    "    \n",
    "    successes, trials = successes_trials(group1, group2, event) \n",
    "    # пропорция успехов в первой группе:\n",
    "    p1 = successes[0]/trials[0]\n",
    " \n",
    "    # пропорция успехов во второй группе:\n",
    "    p2 = successes[1]/trials[1]\n",
    " \n",
    "    # пропорция успехов в комбинированном датасете:\n",
    "    p_combined = (successes[0] + successes[1]) / (trials[0] + trials[1])\n",
    " \n",
    "    # разница пропорций в датасетах\n",
    "    difference = p1 - p2 \n",
    " \n",
    "    # считаем статистику в ст.отклонениях стандартного нормального распределения\n",
    "    z_value = difference / mth.sqrt(p_combined * (1 - p_combined) * (1/trials[0] + 1/trials[1]))\n",
    " \n",
    "    # задаем стандартное нормальное распределение (среднее 0, ст.отклонение 1)\n",
    "    distr = stats.norm(0, 1) \n",
    " \n",
    "    p_value = (1 - distr.cdf(abs(z_value))) * 2\n",
    "    \n",
    "    print(f'Результаты теста для групп {group1} и {group2} и события {event}')\n",
    " \n",
    "    print('p-значение: ', p_value)\n",
    "    if p_value < alpha:\n",
    "        print('Отвергаем нулевую гипотезу: между долями есть значимая разница')\n",
    "    else:\n",
    "        print('Не получилось отвергнуть нулевую гипотезу, нет оснований считать доли разными')"
   ]
  },
  {
   "cell_type": "code",
   "execution_count": 116,
   "metadata": {
    "scrolled": true
   },
   "outputs": [
    {
     "name": "stdout",
     "output_type": "stream",
     "text": [
      "Результаты теста для групп 246 и 247 и события MainScreenAppear\n",
      "p-значение:  0.7570597232046099\n",
      "Не получилось отвергнуть нулевую гипотезу, нет оснований считать доли разными\n"
     ]
    }
   ],
   "source": [
    "test_z(246, 247, 'MainScreenAppear', 0.05)"
   ]
  },
  {
   "cell_type": "code",
   "execution_count": 117,
   "metadata": {},
   "outputs": [
    {
     "name": "stdout",
     "output_type": "stream",
     "text": [
      "Результаты теста для групп 246 и 247 и события OffersScreenAppear\n",
      "p-значение:  0.2480954578522181\n",
      "Не получилось отвергнуть нулевую гипотезу, нет оснований считать доли разными\n"
     ]
    }
   ],
   "source": [
    "test_z(246, 247, 'OffersScreenAppear', 0.05)"
   ]
  },
  {
   "cell_type": "code",
   "execution_count": 118,
   "metadata": {},
   "outputs": [
    {
     "name": "stdout",
     "output_type": "stream",
     "text": [
      "Результаты теста для групп 246 и 247 и события CartScreenAppear\n",
      "p-значение:  0.22883372237997213\n",
      "Не получилось отвергнуть нулевую гипотезу, нет оснований считать доли разными\n"
     ]
    }
   ],
   "source": [
    "test_z(246, 247, 'CartScreenAppear', 0.05)"
   ]
  },
  {
   "cell_type": "code",
   "execution_count": 119,
   "metadata": {},
   "outputs": [
    {
     "name": "stdout",
     "output_type": "stream",
     "text": [
      "Результаты теста для групп 246 и 247 и события PaymentScreenSuccessful\n",
      "p-значение:  0.11456679313141849\n",
      "Не получилось отвергнуть нулевую гипотезу, нет оснований считать доли разными\n"
     ]
    }
   ],
   "source": [
    "test_z(246, 247, 'PaymentScreenSuccessful', 0.05)"
   ]
  },
  {
   "cell_type": "markdown",
   "metadata": {},
   "source": [
    "Проведя все тксты мы увидели что различия между группами небольшое, разбивка по группам верная"
   ]
  },
  {
   "cell_type": "markdown",
   "metadata": {},
   "source": [
    "Сформулируем гипотезы:\n",
    "Н0- различий в долях групп 246 и 248 нет\n",
    "Н1- между долями есть значимая разница"
   ]
  },
  {
   "cell_type": "code",
   "execution_count": 120,
   "metadata": {},
   "outputs": [
    {
     "name": "stdout",
     "output_type": "stream",
     "text": [
      "Результаты теста для групп 246 и 248 и события MainScreenAppear\n",
      "p-значение:  0.2949721933554552\n",
      "Не получилось отвергнуть нулевую гипотезу, нет оснований считать доли разными\n",
      "\n",
      "Результаты теста для групп 246 и 248 и события OffersScreenAppear\n",
      "p-значение:  0.20836205402738917\n",
      "Не получилось отвергнуть нулевую гипотезу, нет оснований считать доли разными\n",
      "\n",
      "Результаты теста для групп 246 и 248 и события CartScreenAppear\n",
      "p-значение:  0.07842923237520116\n",
      "Не получилось отвергнуть нулевую гипотезу, нет оснований считать доли разными\n",
      "\n",
      "Результаты теста для групп 246 и 248 и события PaymentScreenSuccessful\n",
      "p-значение:  0.2122553275697796\n",
      "Не получилось отвергнуть нулевую гипотезу, нет оснований считать доли разными\n"
     ]
    }
   ],
   "source": [
    "test_z(246, 248, 'MainScreenAppear', 0.05)\n",
    "print()\n",
    "test_z(246, 248, 'OffersScreenAppear', 0.05)\n",
    "print()\n",
    "test_z(246, 248, 'CartScreenAppear', 0.05)\n",
    "print()\n",
    "test_z(246, 248, 'PaymentScreenSuccessful', 0.05)"
   ]
  },
  {
   "cell_type": "markdown",
   "metadata": {},
   "source": [
    "Сформулируем гипотезы:\n",
    "Н0- различий в долях между объединенными контрольными группами 246, 247 и контрольной 248 нет\n",
    "Н1- между долями есть значимая разница"
   ]
  },
  {
   "cell_type": "code",
   "execution_count": 122,
   "metadata": {},
   "outputs": [
    {
     "name": "stdout",
     "output_type": "stream",
     "text": [
      "Результаты теста для групп [246, 247] и 248 и события MainScreenAppear\n",
      "p-значение:  0.29424526837179577\n",
      "Не получилось отвергнуть нулевую гипотезу, нет оснований считать доли разными\n",
      "\n",
      "Результаты теста для групп [246, 247] и 248 и события OffersScreenAppear\n",
      "p-значение:  0.43425549655188256\n",
      "Не получилось отвергнуть нулевую гипотезу, нет оснований считать доли разными\n",
      "\n",
      "Результаты теста для групп [246, 247] и 248 и события CartScreenAppear\n",
      "p-значение:  0.18175875284404386\n",
      "Не получилось отвергнуть нулевую гипотезу, нет оснований считать доли разными\n",
      "\n",
      "Результаты теста для групп [246, 247] и 248 и события PaymentScreenSuccessful\n",
      "p-значение:  0.6004294282308704\n",
      "Не получилось отвергнуть нулевую гипотезу, нет оснований считать доли разными\n"
     ]
    }
   ],
   "source": [
    "# сравним объединенные контрольные 246 и 247 группы с экспериментальной 248\n",
    "test_z([246, 247], 248, 'MainScreenAppear', 0.05)\n",
    "print()\n",
    "test_z([246, 247], 248, 'OffersScreenAppear', 0.05)\n",
    "print()\n",
    "test_z([246, 247], 248, 'CartScreenAppear', 0.05)\n",
    "print()\n",
    "test_z([246, 247], 248, 'PaymentScreenSuccessful', 0.05)"
   ]
  },
  {
   "cell_type": "markdown",
   "metadata": {},
   "source": [
    "Сформулируем гипотезы:\n",
    "Н0-различий в долях между объединенными контрольными группами 246, 247 и контрольной 248 нет\n",
    "Н1-между долями есть значимая разница"
   ]
  },
  {
   "cell_type": "markdown",
   "metadata": {},
   "source": [
    "Как видим различий между контрольными группами 246 и 247 и экспериментальной 248 являются статистически незначимыми. Таким образом можно сказать, что изменение шрифтов во всем приложении не повлияло на воронку продаж, и пользователи переходят от шага к шагу в одинаковых пропорциях, независимо от шрифта приложения.\n",
    "\n",
    "уровень значимости везде был равен 5%"
   ]
  },
  {
   "cell_type": "markdown",
   "metadata": {},
   "source": [
    "Данные прошли А/А тест и А/А/В тесты,возможно кажется, что данных и экспериментов слишком много, но это необходимо так как по сути у нас несколько вилок развития событий, для точности и понимания, что данные корректны стоит проверить их со всех сторон.\n",
    "При большом количестве экспериментов важно, чтобы вероятность ошибки первого рода была мала. Её можно контролировать с помощью статистических методов. Например, мы хотим, чтобы в каждом эксперименте вероятность ошибки первого рода не превышала 5% (это просто удобное значение, для собственных нужд можно брать другое). Тогда мы будем принимать эксперименты на уровне значимости 0.05.при одновременной проверке группы  статистических гипотез задача заключается в том, чтобы минимизировать число ложных отклонений V и ложных принятий, не зависимо от метода эксперимента,так как унас нет различий в выводах относительно принятия Н0 гипотезы, нам нет необходимости корректировать эксперим"
   ]
  },
  {
   "cell_type": "markdown",
   "metadata": {},
   "source": [
    "ВЫВОД:"
   ]
  },
  {
   "cell_type": "markdown",
   "metadata": {},
   "source": [
    "Ознакомившись с результатами тестов (А/А, А/В), отсеяв не корректные данные и взяв за базовые данные даты с 01.08.2019 по 07.08.2019 г., мы увидели, что на каждого пользователя примерно приходится около 20 событий. Все пользователи посещают главный экран, а вот инструкции интересуют очень маленькийи процент пользователей, до оплаты доходят 47 % пользователей.\n",
    "  \n",
    "По проведенным  тестам, различий в двух контрольных группах не выявлено, это означает, что данные собраны качественно и результатам A/A/B-теста можно доверять.\n",
    "    \n",
    "По проведенным статистическим тестам различий между контрольными группа и экспериментальной также не выявлено, как при сравнении по отдельности так и при объединении контрольных групп в одну.\n",
    "\n",
    "\n",
    "\n",
    "Из этого следует, что на основании корректно проведенного A/A/B-теста изменение шрифтов в приложении не повлияло на поведение пользователей. \n",
    "\n",
    "Эксперимент продолжaть не стоит, и менять шрифты нет ни какой необходимости"
   ]
  }
 ],
 "metadata": {
  "ExecuteTimeLog": [
   {
    "duration": 1364,
    "start_time": "2023-05-08T07:49:48.830Z"
   },
   {
    "duration": 824,
    "start_time": "2023-05-08T07:50:53.366Z"
   },
   {
    "duration": 23,
    "start_time": "2023-05-08T07:51:04.492Z"
   },
   {
    "duration": 13,
    "start_time": "2023-05-08T07:51:27.691Z"
   },
   {
    "duration": 3,
    "start_time": "2023-05-08T07:52:58.295Z"
   },
   {
    "duration": 301,
    "start_time": "2023-05-08T07:52:58.864Z"
   },
   {
    "duration": 20,
    "start_time": "2023-05-08T07:52:59.507Z"
   },
   {
    "duration": 8,
    "start_time": "2023-05-08T07:53:00.247Z"
   },
   {
    "duration": 4,
    "start_time": "2023-05-08T07:55:34.175Z"
   },
   {
    "duration": 157,
    "start_time": "2023-05-08T07:55:34.716Z"
   },
   {
    "duration": 42,
    "start_time": "2023-05-08T07:55:35.466Z"
   },
   {
    "duration": 36,
    "start_time": "2023-05-08T07:56:14.849Z"
   },
   {
    "duration": 49,
    "start_time": "2023-05-08T07:57:27.562Z"
   },
   {
    "duration": 47,
    "start_time": "2023-05-08T07:58:34.909Z"
   },
   {
    "duration": 55,
    "start_time": "2023-05-08T08:08:29.800Z"
   },
   {
    "duration": 292,
    "start_time": "2023-05-08T08:09:15.483Z"
   },
   {
    "duration": 13,
    "start_time": "2023-05-08T08:09:16.549Z"
   },
   {
    "duration": 326,
    "start_time": "2023-05-08T08:09:34.945Z"
   },
   {
    "duration": 1075,
    "start_time": "2023-05-08T08:09:35.787Z"
   },
   {
    "duration": 36,
    "start_time": "2023-05-08T08:11:30.738Z"
   },
   {
    "duration": 828,
    "start_time": "2023-05-08T08:11:43.460Z"
   },
   {
    "duration": 48,
    "start_time": "2023-05-08T08:12:41.263Z"
   },
   {
    "duration": 1030,
    "start_time": "2023-05-08T08:13:28.780Z"
   },
   {
    "duration": 881,
    "start_time": "2023-05-08T08:14:28.283Z"
   },
   {
    "duration": 119,
    "start_time": "2023-05-08T08:16:20.842Z"
   },
   {
    "duration": 1164,
    "start_time": "2023-05-08T08:16:25.621Z"
   },
   {
    "duration": 907,
    "start_time": "2023-05-08T08:16:53.712Z"
   },
   {
    "duration": 5,
    "start_time": "2023-05-08T08:17:08.824Z"
   },
   {
    "duration": 311,
    "start_time": "2023-05-08T08:17:09.455Z"
   },
   {
    "duration": 33,
    "start_time": "2023-05-08T08:17:10.096Z"
   },
   {
    "duration": 162,
    "start_time": "2023-05-08T08:17:10.877Z"
   },
   {
    "duration": 1757,
    "start_time": "2023-05-08T08:17:11.551Z"
   },
   {
    "duration": 887,
    "start_time": "2023-05-08T08:17:44.972Z"
   },
   {
    "duration": 18,
    "start_time": "2023-05-08T08:20:35.980Z"
   },
   {
    "duration": 37,
    "start_time": "2023-05-08T08:22:19.973Z"
   },
   {
    "duration": 21,
    "start_time": "2023-05-08T08:48:54.447Z"
   },
   {
    "duration": 4,
    "start_time": "2023-05-08T08:49:42.422Z"
   },
   {
    "duration": 3,
    "start_time": "2023-05-08T08:49:56.328Z"
   },
   {
    "duration": 302,
    "start_time": "2023-05-08T08:49:56.884Z"
   },
   {
    "duration": 30,
    "start_time": "2023-05-08T08:49:57.460Z"
   },
   {
    "duration": 143,
    "start_time": "2023-05-08T08:49:58.235Z"
   },
   {
    "duration": 29,
    "start_time": "2023-05-08T08:50:00.998Z"
   },
   {
    "duration": 6,
    "start_time": "2023-05-08T08:50:01.804Z"
   },
   {
    "duration": 27,
    "start_time": "2023-05-08T08:50:13.303Z"
   },
   {
    "duration": 4,
    "start_time": "2023-05-08T08:50:16.258Z"
   },
   {
    "duration": 1183,
    "start_time": "2023-05-08T08:51:45.757Z"
   },
   {
    "duration": 3,
    "start_time": "2023-05-09T06:33:25.790Z"
   },
   {
    "duration": 300,
    "start_time": "2023-05-09T06:33:26.275Z"
   },
   {
    "duration": 33,
    "start_time": "2023-05-09T06:33:27.536Z"
   },
   {
    "duration": 4,
    "start_time": "2023-05-09T06:33:29.269Z"
   },
   {
    "duration": 13,
    "start_time": "2023-05-09T06:33:33.270Z"
   },
   {
    "duration": 12,
    "start_time": "2023-05-09T06:34:38.366Z"
   },
   {
    "duration": 12,
    "start_time": "2023-05-09T06:34:40.586Z"
   },
   {
    "duration": 1121,
    "start_time": "2023-05-09T06:35:20.721Z"
   },
   {
    "duration": 328,
    "start_time": "2023-05-09T06:35:21.844Z"
   },
   {
    "duration": 38,
    "start_time": "2023-05-09T06:35:23.407Z"
   },
   {
    "duration": 5,
    "start_time": "2023-05-09T06:35:27.385Z"
   },
   {
    "duration": 9,
    "start_time": "2023-05-09T06:35:32.205Z"
   },
   {
    "duration": 13,
    "start_time": "2023-05-09T06:35:33.612Z"
   },
   {
    "duration": 4,
    "start_time": "2023-05-09T06:35:50.008Z"
   },
   {
    "duration": 1049,
    "start_time": "2023-05-09T06:46:03.276Z"
   },
   {
    "duration": 346,
    "start_time": "2023-05-09T06:46:04.326Z"
   },
   {
    "duration": 31,
    "start_time": "2023-05-09T06:46:08.892Z"
   },
   {
    "duration": 4,
    "start_time": "2023-05-09T06:46:10.659Z"
   },
   {
    "duration": 6,
    "start_time": "2023-05-09T06:46:40.486Z"
   },
   {
    "duration": 3,
    "start_time": "2023-05-09T06:50:50.504Z"
   },
   {
    "duration": 305,
    "start_time": "2023-05-09T06:50:51.331Z"
   },
   {
    "duration": 31,
    "start_time": "2023-05-09T06:50:55.285Z"
   },
   {
    "duration": 8,
    "start_time": "2023-05-09T06:50:56.440Z"
   },
   {
    "duration": 142,
    "start_time": "2023-05-09T06:50:57.578Z"
   },
   {
    "duration": 5,
    "start_time": "2023-05-09T06:51:01.522Z"
   },
   {
    "duration": 6,
    "start_time": "2023-05-09T06:51:08.099Z"
   },
   {
    "duration": 380,
    "start_time": "2023-05-09T06:55:52.829Z"
   },
   {
    "duration": 3,
    "start_time": "2023-05-09T06:56:30.585Z"
   },
   {
    "duration": 286,
    "start_time": "2023-05-09T06:56:31.115Z"
   },
   {
    "duration": 29,
    "start_time": "2023-05-09T06:56:32.145Z"
   },
   {
    "duration": 6,
    "start_time": "2023-05-09T06:56:32.875Z"
   },
   {
    "duration": 333,
    "start_time": "2023-05-09T06:56:33.930Z"
   },
   {
    "duration": 378,
    "start_time": "2023-05-09T06:57:51.549Z"
   },
   {
    "duration": 71,
    "start_time": "2023-05-09T06:58:33.001Z"
   },
   {
    "duration": 261,
    "start_time": "2023-05-09T06:59:10.831Z"
   },
   {
    "duration": 19,
    "start_time": "2023-05-09T07:00:04.627Z"
   },
   {
    "duration": 22,
    "start_time": "2023-05-09T07:03:02.910Z"
   },
   {
    "duration": 309,
    "start_time": "2023-05-09T07:03:24.822Z"
   },
   {
    "duration": 6,
    "start_time": "2023-05-09T07:04:07.166Z"
   },
   {
    "duration": 153,
    "start_time": "2023-05-09T07:06:01.935Z"
   },
   {
    "duration": 19,
    "start_time": "2023-05-09T07:06:03.110Z"
   },
   {
    "duration": 7,
    "start_time": "2023-05-09T07:06:10.375Z"
   },
   {
    "duration": 58,
    "start_time": "2023-05-09T07:09:46.216Z"
   },
   {
    "duration": 6,
    "start_time": "2023-05-09T07:12:16.477Z"
   },
   {
    "duration": 105,
    "start_time": "2023-05-09T07:22:57.036Z"
   },
   {
    "duration": 115,
    "start_time": "2023-05-09T07:23:24.988Z"
   },
   {
    "duration": 70,
    "start_time": "2023-05-09T07:24:38.519Z"
   },
   {
    "duration": 113,
    "start_time": "2023-05-09T07:25:02.695Z"
   },
   {
    "duration": 15,
    "start_time": "2023-05-09T07:25:08.081Z"
   },
   {
    "duration": 1332,
    "start_time": "2023-05-09T07:40:12.382Z"
   },
   {
    "duration": 670,
    "start_time": "2023-05-09T07:40:41.472Z"
   },
   {
    "duration": 642,
    "start_time": "2023-05-09T07:43:11.150Z"
   },
   {
    "duration": 595,
    "start_time": "2023-05-09T07:43:24.854Z"
   },
   {
    "duration": 5,
    "start_time": "2023-05-09T07:46:20.350Z"
   },
   {
    "duration": 142,
    "start_time": "2023-05-09T07:46:20.935Z"
   },
   {
    "duration": 19,
    "start_time": "2023-05-09T07:46:21.478Z"
   },
   {
    "duration": 7,
    "start_time": "2023-05-09T07:46:26.272Z"
   },
   {
    "duration": 116,
    "start_time": "2023-05-09T07:46:27.592Z"
   },
   {
    "duration": 77,
    "start_time": "2023-05-09T07:46:34.237Z"
   },
   {
    "duration": 99,
    "start_time": "2023-05-09T07:46:36.560Z"
   },
   {
    "duration": 15,
    "start_time": "2023-05-09T07:46:38.625Z"
   },
   {
    "duration": 637,
    "start_time": "2023-05-09T07:46:41.640Z"
   },
   {
    "duration": 1202,
    "start_time": "2023-05-09T07:49:19.592Z"
   },
   {
    "duration": 1358,
    "start_time": "2023-05-09T07:52:12.620Z"
   },
   {
    "duration": 1259,
    "start_time": "2023-05-09T07:52:24.581Z"
   },
   {
    "duration": 80,
    "start_time": "2023-05-09T07:54:57.741Z"
   },
   {
    "duration": 1330,
    "start_time": "2023-05-09T07:55:20.696Z"
   },
   {
    "duration": 1125,
    "start_time": "2023-05-09T07:56:12.733Z"
   },
   {
    "duration": 14,
    "start_time": "2023-05-09T08:00:26.170Z"
   },
   {
    "duration": 1251,
    "start_time": "2023-05-09T08:02:04.419Z"
   },
   {
    "duration": 1310,
    "start_time": "2023-05-09T08:02:44.268Z"
   },
   {
    "duration": 11,
    "start_time": "2023-05-09T08:09:09.255Z"
   },
   {
    "duration": 1340,
    "start_time": "2023-05-09T08:09:26.334Z"
   },
   {
    "duration": 1235,
    "start_time": "2023-05-09T08:09:54.439Z"
   },
   {
    "duration": 2175,
    "start_time": "2023-05-09T08:10:23.513Z"
   },
   {
    "duration": 157,
    "start_time": "2023-05-09T08:10:25.691Z"
   },
   {
    "duration": 20,
    "start_time": "2023-05-09T08:10:25.850Z"
   },
   {
    "duration": 8,
    "start_time": "2023-05-09T08:10:29.281Z"
   },
   {
    "duration": 142,
    "start_time": "2023-05-09T08:10:30.546Z"
   },
   {
    "duration": 92,
    "start_time": "2023-05-09T08:10:36.953Z"
   },
   {
    "duration": 130,
    "start_time": "2023-05-09T08:10:42.850Z"
   },
   {
    "duration": 14,
    "start_time": "2023-05-09T08:10:50.985Z"
   },
   {
    "duration": 1297,
    "start_time": "2023-05-09T08:10:53.362Z"
   },
   {
    "duration": 1287,
    "start_time": "2023-05-09T08:17:56.321Z"
   },
   {
    "duration": 7,
    "start_time": "2023-05-09T08:18:32.250Z"
   },
   {
    "duration": 5,
    "start_time": "2023-05-09T08:18:40.446Z"
   },
   {
    "duration": 156,
    "start_time": "2023-05-09T08:18:41.079Z"
   },
   {
    "duration": 21,
    "start_time": "2023-05-09T08:18:41.747Z"
   },
   {
    "duration": 6,
    "start_time": "2023-05-09T08:18:47.204Z"
   },
   {
    "duration": 109,
    "start_time": "2023-05-09T08:18:51.359Z"
   },
   {
    "duration": 77,
    "start_time": "2023-05-09T08:19:01.720Z"
   },
   {
    "duration": 135,
    "start_time": "2023-05-09T08:19:07.486Z"
   },
   {
    "duration": 14,
    "start_time": "2023-05-09T08:19:09.272Z"
   },
   {
    "duration": 1184,
    "start_time": "2023-05-09T08:19:12.118Z"
   },
   {
    "duration": 1209,
    "start_time": "2023-05-09T08:19:31.550Z"
   },
   {
    "duration": 6,
    "start_time": "2023-05-09T08:23:13.657Z"
   },
   {
    "duration": 1713,
    "start_time": "2023-05-09T08:24:10.855Z"
   },
   {
    "duration": 6,
    "start_time": "2023-05-09T08:24:27.118Z"
   },
   {
    "duration": 135,
    "start_time": "2023-05-09T08:24:27.941Z"
   },
   {
    "duration": 25,
    "start_time": "2023-05-09T08:24:28.578Z"
   },
   {
    "duration": 6,
    "start_time": "2023-05-09T08:24:30.783Z"
   },
   {
    "duration": 101,
    "start_time": "2023-05-09T08:24:31.452Z"
   },
   {
    "duration": 66,
    "start_time": "2023-05-09T08:24:32.857Z"
   },
   {
    "duration": 103,
    "start_time": "2023-05-09T08:24:34.659Z"
   },
   {
    "duration": 15,
    "start_time": "2023-05-09T08:24:36.340Z"
   },
   {
    "duration": 1189,
    "start_time": "2023-05-09T08:24:37.969Z"
   },
   {
    "duration": 6,
    "start_time": "2023-05-09T08:24:40.478Z"
   },
   {
    "duration": 1575,
    "start_time": "2023-05-09T08:25:06.078Z"
   },
   {
    "duration": 174,
    "start_time": "2023-05-09T08:25:07.656Z"
   },
   {
    "duration": 32,
    "start_time": "2023-05-09T08:25:07.832Z"
   },
   {
    "duration": 26,
    "start_time": "2023-05-09T08:25:07.867Z"
   },
   {
    "duration": 161,
    "start_time": "2023-05-09T08:25:07.895Z"
   },
   {
    "duration": 100,
    "start_time": "2023-05-09T08:25:08.057Z"
   },
   {
    "duration": 134,
    "start_time": "2023-05-09T08:25:08.159Z"
   },
   {
    "duration": 16,
    "start_time": "2023-05-09T08:25:08.295Z"
   },
   {
    "duration": 1308,
    "start_time": "2023-05-09T08:25:08.312Z"
   },
   {
    "duration": 0,
    "start_time": "2023-05-09T08:25:09.621Z"
   },
   {
    "duration": 5,
    "start_time": "2023-05-09T08:25:25.495Z"
   },
   {
    "duration": 1221,
    "start_time": "2023-05-09T08:27:14.821Z"
   },
   {
    "duration": 1237,
    "start_time": "2023-05-09T08:28:08.985Z"
   },
   {
    "duration": 1228,
    "start_time": "2023-05-09T08:28:23.234Z"
   },
   {
    "duration": 9,
    "start_time": "2023-05-09T08:29:15.405Z"
   },
   {
    "duration": 92,
    "start_time": "2023-05-09T08:29:16.765Z"
   },
   {
    "duration": 1187,
    "start_time": "2023-05-09T08:29:26.960Z"
   },
   {
    "duration": 288,
    "start_time": "2023-05-09T08:30:47.043Z"
   },
   {
    "duration": 24,
    "start_time": "2023-05-09T08:30:47.333Z"
   },
   {
    "duration": 6,
    "start_time": "2023-05-09T08:30:50.390Z"
   },
   {
    "duration": 1267,
    "start_time": "2023-05-09T08:30:52.079Z"
   },
   {
    "duration": 148,
    "start_time": "2023-05-09T08:31:20.497Z"
   },
   {
    "duration": 18,
    "start_time": "2023-05-09T08:31:21.571Z"
   },
   {
    "duration": 6,
    "start_time": "2023-05-09T08:31:24.649Z"
   },
   {
    "duration": 1244,
    "start_time": "2023-05-09T08:31:25.778Z"
   },
   {
    "duration": 108,
    "start_time": "2023-05-09T08:31:29.128Z"
   },
   {
    "duration": 75,
    "start_time": "2023-05-09T08:31:31.839Z"
   },
   {
    "duration": 110,
    "start_time": "2023-05-09T08:31:35.248Z"
   },
   {
    "duration": 13,
    "start_time": "2023-05-09T08:31:36.325Z"
   },
   {
    "duration": 1194,
    "start_time": "2023-05-09T08:31:37.960Z"
   },
   {
    "duration": 1201,
    "start_time": "2023-05-09T08:31:40.520Z"
   },
   {
    "duration": 0,
    "start_time": "2023-05-09T08:31:41.723Z"
   },
   {
    "duration": 11,
    "start_time": "2023-05-09T08:32:31.692Z"
   },
   {
    "duration": 1242,
    "start_time": "2023-05-09T08:32:48.948Z"
   },
   {
    "duration": 5,
    "start_time": "2023-05-09T08:37:20.797Z"
   },
   {
    "duration": 148,
    "start_time": "2023-05-09T08:37:21.374Z"
   },
   {
    "duration": 20,
    "start_time": "2023-05-09T08:37:22.200Z"
   },
   {
    "duration": 6,
    "start_time": "2023-05-09T08:37:26.141Z"
   },
   {
    "duration": 1349,
    "start_time": "2023-05-09T08:37:30.348Z"
   },
   {
    "duration": 13,
    "start_time": "2023-05-09T08:42:45.974Z"
   },
   {
    "duration": 1264,
    "start_time": "2023-05-09T08:42:46.758Z"
   },
   {
    "duration": 6,
    "start_time": "2023-05-09T08:42:52.871Z"
   },
   {
    "duration": 139,
    "start_time": "2023-05-09T08:42:53.445Z"
   },
   {
    "duration": 20,
    "start_time": "2023-05-09T08:42:54.164Z"
   },
   {
    "duration": 7,
    "start_time": "2023-05-09T08:42:58.764Z"
   },
   {
    "duration": 8,
    "start_time": "2023-05-09T08:42:59.869Z"
   },
   {
    "duration": 96,
    "start_time": "2023-05-09T08:43:05.774Z"
   },
   {
    "duration": 72,
    "start_time": "2023-05-09T08:43:07.538Z"
   },
   {
    "duration": 119,
    "start_time": "2023-05-09T08:43:08.392Z"
   },
   {
    "duration": 14,
    "start_time": "2023-05-09T08:43:09.851Z"
   },
   {
    "duration": 12,
    "start_time": "2023-05-09T08:43:11.385Z"
   },
   {
    "duration": 65,
    "start_time": "2023-05-09T08:43:14.280Z"
   },
   {
    "duration": 76,
    "start_time": "2023-05-09T08:46:35.216Z"
   },
   {
    "duration": 78,
    "start_time": "2023-05-09T08:47:05.336Z"
   },
   {
    "duration": 152,
    "start_time": "2023-05-09T08:50:13.103Z"
   },
   {
    "duration": 209,
    "start_time": "2023-05-09T08:51:29.373Z"
   },
   {
    "duration": 151,
    "start_time": "2023-05-09T08:51:36.579Z"
   },
   {
    "duration": 129,
    "start_time": "2023-05-09T08:51:41.294Z"
   },
   {
    "duration": 5,
    "start_time": "2023-05-09T08:51:53.146Z"
   },
   {
    "duration": 149,
    "start_time": "2023-05-09T08:51:53.683Z"
   },
   {
    "duration": 19,
    "start_time": "2023-05-09T08:51:54.155Z"
   },
   {
    "duration": 7,
    "start_time": "2023-05-09T08:51:56.618Z"
   },
   {
    "duration": 144,
    "start_time": "2023-05-09T08:51:57.906Z"
   },
   {
    "duration": 131,
    "start_time": "2023-05-09T08:51:59.362Z"
   },
   {
    "duration": 103,
    "start_time": "2023-05-09T08:52:06.182Z"
   },
   {
    "duration": 118,
    "start_time": "2023-05-09T08:52:09.465Z"
   },
   {
    "duration": 22,
    "start_time": "2023-05-09T08:52:12.385Z"
   },
   {
    "duration": 7,
    "start_time": "2023-05-09T08:52:15.716Z"
   },
   {
    "duration": 23,
    "start_time": "2023-05-09T08:52:45.603Z"
   },
   {
    "duration": 7,
    "start_time": "2023-05-09T08:53:23.286Z"
   },
   {
    "duration": 144,
    "start_time": "2023-05-09T08:53:25.347Z"
   },
   {
    "duration": 131,
    "start_time": "2023-05-09T08:53:26.428Z"
   },
   {
    "duration": 84,
    "start_time": "2023-05-09T08:53:28.102Z"
   },
   {
    "duration": 138,
    "start_time": "2023-05-09T08:53:34.673Z"
   },
   {
    "duration": 24,
    "start_time": "2023-05-09T08:53:36.585Z"
   },
   {
    "duration": 4,
    "start_time": "2023-05-09T09:06:11.766Z"
   },
   {
    "duration": 3,
    "start_time": "2023-05-09T09:06:37.023Z"
   },
   {
    "duration": 4,
    "start_time": "2023-05-09T09:09:07.347Z"
   },
   {
    "duration": 4,
    "start_time": "2023-05-09T09:10:30.777Z"
   },
   {
    "duration": 21,
    "start_time": "2023-05-09T09:11:27.358Z"
   },
   {
    "duration": 18,
    "start_time": "2023-05-09T09:12:38.742Z"
   },
   {
    "duration": 32,
    "start_time": "2023-05-09T09:21:27.529Z"
   },
   {
    "duration": 37,
    "start_time": "2023-05-09T09:35:06.168Z"
   },
   {
    "duration": 25,
    "start_time": "2023-05-09T09:35:56.838Z"
   },
   {
    "duration": 1235,
    "start_time": "2023-05-09T09:44:18.958Z"
   },
   {
    "duration": 261,
    "start_time": "2023-05-09T09:44:52.170Z"
   },
   {
    "duration": 146,
    "start_time": "2023-05-09T09:49:23.860Z"
   },
   {
    "duration": 191,
    "start_time": "2023-05-09T09:49:54.379Z"
   },
   {
    "duration": 50,
    "start_time": "2023-05-09T10:05:41.222Z"
   },
   {
    "duration": 43,
    "start_time": "2023-05-09T10:06:24.450Z"
   },
   {
    "duration": 415,
    "start_time": "2023-05-09T10:10:34.734Z"
   },
   {
    "duration": 17,
    "start_time": "2023-05-09T10:11:09.246Z"
   },
   {
    "duration": 5,
    "start_time": "2023-05-09T10:19:27.353Z"
   },
   {
    "duration": 4,
    "start_time": "2023-05-09T10:20:19.202Z"
   },
   {
    "duration": 5,
    "start_time": "2023-05-09T10:20:22.306Z"
   },
   {
    "duration": 4,
    "start_time": "2023-05-09T10:21:15.531Z"
   },
   {
    "duration": 123,
    "start_time": "2023-05-09T10:47:02.511Z"
   },
   {
    "duration": 97,
    "start_time": "2023-05-09T10:47:51.966Z"
   },
   {
    "duration": 91,
    "start_time": "2023-05-09T10:50:27.965Z"
   },
   {
    "duration": 77,
    "start_time": "2023-05-09T10:54:14.566Z"
   },
   {
    "duration": 13,
    "start_time": "2023-05-09T10:58:47.740Z"
   },
   {
    "duration": 4,
    "start_time": "2023-05-09T11:00:08.201Z"
   },
   {
    "duration": 20,
    "start_time": "2023-05-09T11:02:16.537Z"
   },
   {
    "duration": 40,
    "start_time": "2023-05-09T11:02:57.047Z"
   },
   {
    "duration": 15,
    "start_time": "2023-05-09T11:03:45.200Z"
   },
   {
    "duration": 40,
    "start_time": "2023-05-09T11:04:12.868Z"
   },
   {
    "duration": 54,
    "start_time": "2023-05-09T11:15:24.073Z"
   },
   {
    "duration": 75,
    "start_time": "2023-05-09T11:24:44.282Z"
   },
   {
    "duration": 59,
    "start_time": "2023-05-09T15:40:22.256Z"
   },
   {
    "duration": 44,
    "start_time": "2023-05-09T15:42:09.513Z"
   },
   {
    "duration": 47,
    "start_time": "2023-05-09T15:52:01.315Z"
   },
   {
    "duration": 5,
    "start_time": "2023-05-09T15:59:00.487Z"
   },
   {
    "duration": 68,
    "start_time": "2023-05-09T15:59:38.194Z"
   },
   {
    "duration": 10,
    "start_time": "2023-05-09T16:00:07.091Z"
   },
   {
    "duration": 15,
    "start_time": "2023-05-09T16:19:54.250Z"
   },
   {
    "duration": 17,
    "start_time": "2023-05-09T16:27:28.393Z"
   },
   {
    "duration": 35,
    "start_time": "2023-05-09T16:35:36.390Z"
   },
   {
    "duration": 48,
    "start_time": "2023-05-09T16:50:31.775Z"
   },
   {
    "duration": 40,
    "start_time": "2023-05-09T16:51:33.241Z"
   },
   {
    "duration": 48,
    "start_time": "2023-05-09T16:52:26.490Z"
   },
   {
    "duration": 8,
    "start_time": "2023-05-09T17:00:21.638Z"
   },
   {
    "duration": 6,
    "start_time": "2023-05-09T17:00:26.407Z"
   },
   {
    "duration": 9,
    "start_time": "2023-05-09T17:00:31.754Z"
   },
   {
    "duration": 48,
    "start_time": "2023-05-09T17:02:12.445Z"
   },
   {
    "duration": 7,
    "start_time": "2023-05-09T17:04:22.646Z"
   },
   {
    "duration": 49,
    "start_time": "2023-05-09T17:04:23.632Z"
   },
   {
    "duration": 43,
    "start_time": "2023-05-09T17:06:33.153Z"
   },
   {
    "duration": 58,
    "start_time": "2023-05-09T17:36:41.911Z"
   },
   {
    "duration": 40,
    "start_time": "2023-05-09T17:38:03.346Z"
   },
   {
    "duration": 203,
    "start_time": "2023-05-09T17:43:07.992Z"
   },
   {
    "duration": 6,
    "start_time": "2023-05-09T17:52:08.719Z"
   },
   {
    "duration": 41,
    "start_time": "2023-05-09T17:52:29.718Z"
   },
   {
    "duration": 7,
    "start_time": "2023-05-09T17:52:43.225Z"
   },
   {
    "duration": 42,
    "start_time": "2023-05-09T17:52:44.295Z"
   },
   {
    "duration": 9,
    "start_time": "2023-05-09T17:55:06.955Z"
   },
   {
    "duration": 225,
    "start_time": "2023-05-09T17:55:08.066Z"
   },
   {
    "duration": 2136,
    "start_time": "2023-05-10T14:13:30.466Z"
   },
   {
    "duration": 770,
    "start_time": "2023-05-10T14:13:32.605Z"
   },
   {
    "duration": 26,
    "start_time": "2023-05-10T14:13:33.378Z"
   },
   {
    "duration": 9,
    "start_time": "2023-05-10T14:13:33.406Z"
   },
   {
    "duration": 203,
    "start_time": "2023-05-10T14:13:33.417Z"
   },
   {
    "duration": 198,
    "start_time": "2023-05-10T14:13:33.622Z"
   },
   {
    "duration": 157,
    "start_time": "2023-05-10T14:13:33.822Z"
   },
   {
    "duration": 167,
    "start_time": "2023-05-10T14:13:33.981Z"
   },
   {
    "duration": 25,
    "start_time": "2023-05-10T14:13:34.266Z"
   },
   {
    "duration": 4,
    "start_time": "2023-05-10T14:13:34.691Z"
   },
   {
    "duration": 4,
    "start_time": "2023-05-10T14:13:34.930Z"
   },
   {
    "duration": 21,
    "start_time": "2023-05-10T14:13:35.169Z"
   },
   {
    "duration": 46,
    "start_time": "2023-05-10T14:13:35.629Z"
   },
   {
    "duration": 49,
    "start_time": "2023-05-10T14:13:36.579Z"
   },
   {
    "duration": 336,
    "start_time": "2023-05-10T14:13:38.266Z"
   },
   {
    "duration": 18,
    "start_time": "2023-05-10T14:13:39.371Z"
   },
   {
    "duration": 4,
    "start_time": "2023-05-10T14:13:40.270Z"
   },
   {
    "duration": 45,
    "start_time": "2023-05-10T14:13:40.666Z"
   },
   {
    "duration": 57,
    "start_time": "2023-05-10T14:13:41.027Z"
   },
   {
    "duration": 32,
    "start_time": "2023-05-10T14:13:41.870Z"
   },
   {
    "duration": 61,
    "start_time": "2023-05-10T14:13:42.970Z"
   },
   {
    "duration": 52,
    "start_time": "2023-05-10T14:13:43.476Z"
   },
   {
    "duration": 555,
    "start_time": "2023-05-10T14:13:44.325Z"
   },
   {
    "duration": 18,
    "start_time": "2023-05-10T14:13:44.965Z"
   },
   {
    "duration": 15,
    "start_time": "2023-05-10T14:13:45.598Z"
   },
   {
    "duration": 44,
    "start_time": "2023-05-10T14:13:46.465Z"
   },
   {
    "duration": 63,
    "start_time": "2023-05-10T14:13:46.889Z"
   },
   {
    "duration": 10,
    "start_time": "2023-05-10T14:13:47.980Z"
   },
   {
    "duration": 68,
    "start_time": "2023-05-10T14:13:48.366Z"
   },
   {
    "duration": 55,
    "start_time": "2023-05-10T14:13:48.930Z"
   },
   {
    "duration": 64,
    "start_time": "2023-05-10T14:13:49.330Z"
   },
   {
    "duration": 46,
    "start_time": "2023-05-10T14:13:49.881Z"
   },
   {
    "duration": 231,
    "start_time": "2023-05-10T14:13:51.831Z"
   },
   {
    "duration": 9,
    "start_time": "2023-05-10T14:14:01.101Z"
   },
   {
    "duration": 274,
    "start_time": "2023-05-10T14:14:02.032Z"
   },
   {
    "duration": 8,
    "start_time": "2023-05-10T14:16:17.990Z"
   },
   {
    "duration": 250,
    "start_time": "2023-05-10T14:16:19.495Z"
   },
   {
    "duration": 11,
    "start_time": "2023-05-10T14:17:54.673Z"
   },
   {
    "duration": 294,
    "start_time": "2023-05-10T14:17:55.386Z"
   },
   {
    "duration": 6,
    "start_time": "2023-05-10T14:29:15.973Z"
   },
   {
    "duration": 181,
    "start_time": "2023-05-10T14:29:16.267Z"
   },
   {
    "duration": 23,
    "start_time": "2023-05-10T14:29:16.529Z"
   },
   {
    "duration": 10,
    "start_time": "2023-05-10T14:29:17.562Z"
   },
   {
    "duration": 182,
    "start_time": "2023-05-10T14:29:17.989Z"
   },
   {
    "duration": 183,
    "start_time": "2023-05-10T14:29:18.273Z"
   },
   {
    "duration": 130,
    "start_time": "2023-05-10T14:29:18.882Z"
   },
   {
    "duration": 156,
    "start_time": "2023-05-10T14:29:19.163Z"
   },
   {
    "duration": 25,
    "start_time": "2023-05-10T14:29:20.173Z"
   },
   {
    "duration": 4,
    "start_time": "2023-05-10T14:29:21.126Z"
   },
   {
    "duration": 3,
    "start_time": "2023-05-10T14:29:21.379Z"
   },
   {
    "duration": 20,
    "start_time": "2023-05-10T14:29:21.799Z"
   },
   {
    "duration": 29,
    "start_time": "2023-05-10T14:29:22.491Z"
   },
   {
    "duration": 37,
    "start_time": "2023-05-10T14:29:23.521Z"
   },
   {
    "duration": 214,
    "start_time": "2023-05-10T14:29:24.198Z"
   },
   {
    "duration": 19,
    "start_time": "2023-05-10T14:29:25.025Z"
   },
   {
    "duration": 4,
    "start_time": "2023-05-10T14:29:25.668Z"
   },
   {
    "duration": 56,
    "start_time": "2023-05-10T14:29:25.936Z"
   },
   {
    "duration": 49,
    "start_time": "2023-05-10T14:29:26.304Z"
   },
   {
    "duration": 45,
    "start_time": "2023-05-10T14:29:27.334Z"
   },
   {
    "duration": 76,
    "start_time": "2023-05-10T14:29:28.332Z"
   },
   {
    "duration": 18,
    "start_time": "2023-05-10T14:29:28.942Z"
   },
   {
    "duration": 66,
    "start_time": "2023-05-10T14:29:30.066Z"
   },
   {
    "duration": 12,
    "start_time": "2023-05-10T14:29:32.279Z"
   },
   {
    "duration": 15,
    "start_time": "2023-05-10T14:29:32.972Z"
   },
   {
    "duration": 51,
    "start_time": "2023-05-10T14:29:34.406Z"
   },
   {
    "duration": 75,
    "start_time": "2023-05-10T14:29:34.636Z"
   },
   {
    "duration": 10,
    "start_time": "2023-05-10T14:29:35.433Z"
   },
   {
    "duration": 68,
    "start_time": "2023-05-10T14:29:35.869Z"
   },
   {
    "duration": 73,
    "start_time": "2023-05-10T14:29:36.120Z"
   },
   {
    "duration": 74,
    "start_time": "2023-05-10T14:29:36.500Z"
   },
   {
    "duration": 62,
    "start_time": "2023-05-10T14:29:36.769Z"
   },
   {
    "duration": 243,
    "start_time": "2023-05-10T14:29:37.734Z"
   },
   {
    "duration": 11,
    "start_time": "2023-05-10T14:29:38.370Z"
   },
   {
    "duration": 268,
    "start_time": "2023-05-10T14:29:38.639Z"
   },
   {
    "duration": 106,
    "start_time": "2023-05-10T14:29:39.189Z"
   },
   {
    "duration": 10,
    "start_time": "2023-05-10T14:29:39.470Z"
   },
   {
    "duration": 261,
    "start_time": "2023-05-10T14:29:39.865Z"
   },
   {
    "duration": 1628,
    "start_time": "2023-05-11T09:53:03.942Z"
   },
   {
    "duration": 111,
    "start_time": "2023-05-11T09:53:29.907Z"
   },
   {
    "duration": 757,
    "start_time": "2023-05-11T09:53:33.985Z"
   },
   {
    "duration": 36,
    "start_time": "2023-05-11T09:53:34.744Z"
   },
   {
    "duration": 14,
    "start_time": "2023-05-11T09:53:42.008Z"
   },
   {
    "duration": 138,
    "start_time": "2023-05-11T09:55:40.781Z"
   },
   {
    "duration": 17,
    "start_time": "2023-05-11T09:55:43.149Z"
   },
   {
    "duration": 12,
    "start_time": "2023-05-11T10:01:14.534Z"
   },
   {
    "duration": 2051,
    "start_time": "2023-05-11T10:03:55.642Z"
   },
   {
    "duration": 1563,
    "start_time": "2023-05-11T10:04:32.513Z"
   },
   {
    "duration": 161,
    "start_time": "2023-05-11T10:04:34.078Z"
   },
   {
    "duration": 22,
    "start_time": "2023-05-11T10:04:34.241Z"
   },
   {
    "duration": 17,
    "start_time": "2023-05-11T10:04:34.265Z"
   },
   {
    "duration": 172,
    "start_time": "2023-05-11T10:04:34.283Z"
   },
   {
    "duration": 169,
    "start_time": "2023-05-11T10:04:34.456Z"
   },
   {
    "duration": 133,
    "start_time": "2023-05-11T10:04:34.626Z"
   },
   {
    "duration": 151,
    "start_time": "2023-05-11T10:04:34.761Z"
   },
   {
    "duration": 27,
    "start_time": "2023-05-11T10:04:34.914Z"
   },
   {
    "duration": 3,
    "start_time": "2023-05-11T10:04:34.944Z"
   },
   {
    "duration": 16,
    "start_time": "2023-05-11T10:04:34.948Z"
   },
   {
    "duration": 22,
    "start_time": "2023-05-11T10:04:34.966Z"
   },
   {
    "duration": 48,
    "start_time": "2023-05-11T10:04:34.989Z"
   },
   {
    "duration": 7,
    "start_time": "2023-05-11T10:04:35.039Z"
   },
   {
    "duration": 38,
    "start_time": "2023-05-11T10:04:35.048Z"
   },
   {
    "duration": 306,
    "start_time": "2023-05-11T10:04:35.088Z"
   },
   {
    "duration": 19,
    "start_time": "2023-05-11T10:04:35.396Z"
   },
   {
    "duration": 11,
    "start_time": "2023-05-11T10:04:35.417Z"
   },
   {
    "duration": 53,
    "start_time": "2023-05-11T10:04:35.430Z"
   },
   {
    "duration": 49,
    "start_time": "2023-05-11T10:04:35.485Z"
   },
   {
    "duration": 34,
    "start_time": "2023-05-11T10:04:35.536Z"
   },
   {
    "duration": 73,
    "start_time": "2023-05-11T10:04:35.572Z"
   },
   {
    "duration": 46,
    "start_time": "2023-05-11T10:04:35.647Z"
   },
   {
    "duration": 481,
    "start_time": "2023-05-11T10:04:35.695Z"
   },
   {
    "duration": 13,
    "start_time": "2023-05-11T10:04:36.179Z"
   },
   {
    "duration": 23,
    "start_time": "2023-05-11T10:04:36.194Z"
   },
   {
    "duration": 100,
    "start_time": "2023-05-11T10:04:36.219Z"
   },
   {
    "duration": 61,
    "start_time": "2023-05-11T10:04:36.323Z"
   },
   {
    "duration": 32,
    "start_time": "2023-05-11T10:04:36.386Z"
   },
   {
    "duration": 74,
    "start_time": "2023-05-11T10:04:36.420Z"
   },
   {
    "duration": 43,
    "start_time": "2023-05-11T10:04:36.496Z"
   },
   {
    "duration": 49,
    "start_time": "2023-05-11T10:04:36.541Z"
   },
   {
    "duration": 52,
    "start_time": "2023-05-11T10:04:36.592Z"
   },
   {
    "duration": 197,
    "start_time": "2023-05-11T10:04:36.645Z"
   },
   {
    "duration": 6,
    "start_time": "2023-05-11T10:04:36.845Z"
   },
   {
    "duration": 244,
    "start_time": "2023-05-11T10:04:36.853Z"
   },
   {
    "duration": 82,
    "start_time": "2023-05-11T10:04:37.098Z"
   },
   {
    "duration": 0,
    "start_time": "2023-05-11T10:04:37.181Z"
   },
   {
    "duration": 0,
    "start_time": "2023-05-11T10:04:37.183Z"
   },
   {
    "duration": 88,
    "start_time": "2023-05-11T10:07:07.838Z"
   },
   {
    "duration": 203,
    "start_time": "2023-05-11T10:07:37.599Z"
   },
   {
    "duration": 49,
    "start_time": "2023-05-11T10:10:05.290Z"
   },
   {
    "duration": 32,
    "start_time": "2023-05-11T10:10:41.121Z"
   },
   {
    "duration": 229,
    "start_time": "2023-05-11T10:17:54.311Z"
   },
   {
    "duration": 204,
    "start_time": "2023-05-11T10:18:08.590Z"
   },
   {
    "duration": 264,
    "start_time": "2023-05-11T10:19:28.821Z"
   },
   {
    "duration": 223,
    "start_time": "2023-05-11T10:23:25.431Z"
   },
   {
    "duration": 259,
    "start_time": "2023-05-11T10:23:42.046Z"
   },
   {
    "duration": 250,
    "start_time": "2023-05-11T10:24:17.764Z"
   },
   {
    "duration": 244,
    "start_time": "2023-05-11T10:24:24.270Z"
   },
   {
    "duration": 3,
    "start_time": "2023-05-11T10:29:04.606Z"
   },
   {
    "duration": 7,
    "start_time": "2023-05-11T10:29:06.022Z"
   },
   {
    "duration": 15,
    "start_time": "2023-05-11T10:30:55.635Z"
   },
   {
    "duration": 78,
    "start_time": "2023-05-11T10:33:22.432Z"
   },
   {
    "duration": 86,
    "start_time": "2023-05-11T10:48:40.613Z"
   },
   {
    "duration": 110,
    "start_time": "2023-05-11T10:49:49.808Z"
   },
   {
    "duration": 195,
    "start_time": "2023-05-11T11:35:19.519Z"
   },
   {
    "duration": 107,
    "start_time": "2023-05-11T13:57:24.375Z"
   },
   {
    "duration": 147,
    "start_time": "2023-05-11T13:59:18.627Z"
   },
   {
    "duration": 27,
    "start_time": "2023-05-11T14:00:18.771Z"
   },
   {
    "duration": 1888,
    "start_time": "2023-05-11T14:00:43.770Z"
   },
   {
    "duration": 167,
    "start_time": "2023-05-11T14:00:45.660Z"
   },
   {
    "duration": 34,
    "start_time": "2023-05-11T14:00:45.829Z"
   },
   {
    "duration": 12,
    "start_time": "2023-05-11T14:00:45.865Z"
   },
   {
    "duration": 178,
    "start_time": "2023-05-11T14:00:45.879Z"
   },
   {
    "duration": 186,
    "start_time": "2023-05-11T14:00:46.059Z"
   },
   {
    "duration": 144,
    "start_time": "2023-05-11T14:00:46.247Z"
   },
   {
    "duration": 159,
    "start_time": "2023-05-11T14:00:46.393Z"
   },
   {
    "duration": 22,
    "start_time": "2023-05-11T14:00:46.554Z"
   },
   {
    "duration": 40,
    "start_time": "2023-05-11T14:00:46.579Z"
   },
   {
    "duration": 18,
    "start_time": "2023-05-11T14:00:46.621Z"
   },
   {
    "duration": 36,
    "start_time": "2023-05-11T14:00:46.641Z"
   },
   {
    "duration": 29,
    "start_time": "2023-05-11T14:00:46.679Z"
   },
   {
    "duration": 8,
    "start_time": "2023-05-11T14:00:46.710Z"
   },
   {
    "duration": 53,
    "start_time": "2023-05-11T14:00:46.720Z"
   },
   {
    "duration": 334,
    "start_time": "2023-05-11T14:00:46.775Z"
   },
   {
    "duration": 47,
    "start_time": "2023-05-11T14:00:47.111Z"
   },
   {
    "duration": 25,
    "start_time": "2023-05-11T14:00:47.161Z"
   },
   {
    "duration": 127,
    "start_time": "2023-05-11T14:00:47.188Z"
   },
   {
    "duration": 0,
    "start_time": "2023-05-11T14:00:47.318Z"
   },
   {
    "duration": 0,
    "start_time": "2023-05-11T14:00:47.319Z"
   },
   {
    "duration": 0,
    "start_time": "2023-05-11T14:00:47.320Z"
   },
   {
    "duration": 0,
    "start_time": "2023-05-11T14:00:47.321Z"
   },
   {
    "duration": 0,
    "start_time": "2023-05-11T14:00:47.322Z"
   },
   {
    "duration": 0,
    "start_time": "2023-05-11T14:00:47.323Z"
   },
   {
    "duration": 0,
    "start_time": "2023-05-11T14:00:47.324Z"
   },
   {
    "duration": 0,
    "start_time": "2023-05-11T14:00:47.325Z"
   },
   {
    "duration": 0,
    "start_time": "2023-05-11T14:00:47.326Z"
   },
   {
    "duration": 0,
    "start_time": "2023-05-11T14:00:47.327Z"
   },
   {
    "duration": 0,
    "start_time": "2023-05-11T14:00:47.329Z"
   },
   {
    "duration": 0,
    "start_time": "2023-05-11T14:00:47.330Z"
   },
   {
    "duration": 0,
    "start_time": "2023-05-11T14:00:47.331Z"
   },
   {
    "duration": 0,
    "start_time": "2023-05-11T14:00:47.333Z"
   },
   {
    "duration": 0,
    "start_time": "2023-05-11T14:00:47.357Z"
   },
   {
    "duration": 0,
    "start_time": "2023-05-11T14:00:47.358Z"
   },
   {
    "duration": 0,
    "start_time": "2023-05-11T14:00:47.360Z"
   },
   {
    "duration": 0,
    "start_time": "2023-05-11T14:00:47.362Z"
   },
   {
    "duration": 0,
    "start_time": "2023-05-11T14:00:47.364Z"
   },
   {
    "duration": 0,
    "start_time": "2023-05-11T14:00:47.365Z"
   },
   {
    "duration": 0,
    "start_time": "2023-05-11T14:00:47.367Z"
   },
   {
    "duration": 0,
    "start_time": "2023-05-11T14:00:47.368Z"
   },
   {
    "duration": 11,
    "start_time": "2023-05-11T14:01:21.221Z"
   },
   {
    "duration": 741,
    "start_time": "2023-05-11T14:02:44.374Z"
   },
   {
    "duration": 149,
    "start_time": "2023-05-11T14:03:01.089Z"
   },
   {
    "duration": 76,
    "start_time": "2023-05-11T14:03:24.229Z"
   },
   {
    "duration": 122,
    "start_time": "2023-05-11T14:03:47.240Z"
   },
   {
    "duration": 11,
    "start_time": "2023-05-11T14:14:22.029Z"
   },
   {
    "duration": 4,
    "start_time": "2023-05-11T14:14:40.818Z"
   },
   {
    "duration": 11,
    "start_time": "2023-05-11T14:14:43.749Z"
   },
   {
    "duration": 3,
    "start_time": "2023-05-11T14:14:54.556Z"
   },
   {
    "duration": 168,
    "start_time": "2023-05-11T14:14:56.050Z"
   },
   {
    "duration": 18,
    "start_time": "2023-05-11T14:14:56.588Z"
   },
   {
    "duration": 16,
    "start_time": "2023-05-11T14:14:58.975Z"
   },
   {
    "duration": 158,
    "start_time": "2023-05-11T14:15:01.357Z"
   },
   {
    "duration": 161,
    "start_time": "2023-05-11T14:15:03.292Z"
   },
   {
    "duration": 118,
    "start_time": "2023-05-11T14:15:05.909Z"
   },
   {
    "duration": 143,
    "start_time": "2023-05-11T14:15:06.691Z"
   },
   {
    "duration": 24,
    "start_time": "2023-05-11T14:15:08.714Z"
   },
   {
    "duration": 4,
    "start_time": "2023-05-11T14:15:12.018Z"
   },
   {
    "duration": 4,
    "start_time": "2023-05-11T14:15:12.832Z"
   },
   {
    "duration": 20,
    "start_time": "2023-05-11T14:15:16.485Z"
   },
   {
    "duration": 5,
    "start_time": "2023-05-11T14:15:28.955Z"
   },
   {
    "duration": 20,
    "start_time": "2023-05-11T14:15:29.858Z"
   },
   {
    "duration": 27,
    "start_time": "2023-05-11T14:15:33.901Z"
   },
   {
    "duration": 8,
    "start_time": "2023-05-11T14:15:35.885Z"
   },
   {
    "duration": 26,
    "start_time": "2023-05-11T14:15:39.088Z"
   },
   {
    "duration": 223,
    "start_time": "2023-05-11T14:15:42.247Z"
   },
   {
    "duration": 17,
    "start_time": "2023-05-11T14:15:52.014Z"
   },
   {
    "duration": 4,
    "start_time": "2023-05-11T14:15:57.028Z"
   },
   {
    "duration": 13,
    "start_time": "2023-05-11T14:16:35.839Z"
   },
   {
    "duration": 12,
    "start_time": "2023-05-11T14:30:34.828Z"
   },
   {
    "duration": 10,
    "start_time": "2023-05-11T14:31:00.673Z"
   },
   {
    "duration": 14,
    "start_time": "2023-05-11T14:31:38.131Z"
   },
   {
    "duration": 84,
    "start_time": "2023-05-11T14:38:13.604Z"
   },
   {
    "duration": 87,
    "start_time": "2023-05-11T14:56:44.347Z"
   },
   {
    "duration": 77,
    "start_time": "2023-05-11T14:57:36.574Z"
   },
   {
    "duration": 198,
    "start_time": "2023-05-11T14:57:49.920Z"
   },
   {
    "duration": 84,
    "start_time": "2023-05-11T14:58:28.506Z"
   },
   {
    "duration": 163,
    "start_time": "2023-05-11T15:00:33.329Z"
   },
   {
    "duration": 100,
    "start_time": "2023-05-11T15:01:16.254Z"
   },
   {
    "duration": 111,
    "start_time": "2023-05-11T15:05:16.047Z"
   },
   {
    "duration": 14,
    "start_time": "2023-05-11T15:07:14.637Z"
   },
   {
    "duration": 79,
    "start_time": "2023-05-11T15:07:37.021Z"
   },
   {
    "duration": 14,
    "start_time": "2023-05-11T15:07:58.890Z"
   },
   {
    "duration": 4,
    "start_time": "2023-05-11T15:08:20.907Z"
   },
   {
    "duration": 163,
    "start_time": "2023-05-11T15:08:22.650Z"
   },
   {
    "duration": 20,
    "start_time": "2023-05-11T15:08:23.347Z"
   },
   {
    "duration": 9,
    "start_time": "2023-05-11T15:08:25.908Z"
   },
   {
    "duration": 149,
    "start_time": "2023-05-11T15:08:27.893Z"
   },
   {
    "duration": 170,
    "start_time": "2023-05-11T15:08:29.925Z"
   },
   {
    "duration": 120,
    "start_time": "2023-05-11T15:08:31.716Z"
   },
   {
    "duration": 155,
    "start_time": "2023-05-11T15:08:32.488Z"
   },
   {
    "duration": 25,
    "start_time": "2023-05-11T15:08:34.983Z"
   },
   {
    "duration": 3,
    "start_time": "2023-05-11T15:08:39.086Z"
   },
   {
    "duration": 4,
    "start_time": "2023-05-11T15:08:39.874Z"
   },
   {
    "duration": 31,
    "start_time": "2023-05-11T15:08:40.674Z"
   },
   {
    "duration": 41,
    "start_time": "2023-05-11T15:08:44.915Z"
   },
   {
    "duration": 9,
    "start_time": "2023-05-11T15:08:47.837Z"
   },
   {
    "duration": 45,
    "start_time": "2023-05-11T15:09:06.356Z"
   },
   {
    "duration": 239,
    "start_time": "2023-05-11T15:09:09.849Z"
   },
   {
    "duration": 17,
    "start_time": "2023-05-11T15:09:14.821Z"
   },
   {
    "duration": 4,
    "start_time": "2023-05-11T15:09:17.366Z"
   },
   {
    "duration": 80,
    "start_time": "2023-05-11T15:09:20.726Z"
   },
   {
    "duration": 189,
    "start_time": "2023-05-11T15:09:23.251Z"
   },
   {
    "duration": 44,
    "start_time": "2023-05-11T15:09:30.542Z"
   },
   {
    "duration": 42,
    "start_time": "2023-05-11T15:09:31.514Z"
   },
   {
    "duration": 32,
    "start_time": "2023-05-11T15:09:38.151Z"
   },
   {
    "duration": 59,
    "start_time": "2023-05-11T15:09:40.306Z"
   },
   {
    "duration": 48,
    "start_time": "2023-05-11T15:09:53.663Z"
   },
   {
    "duration": 705,
    "start_time": "2023-05-11T15:09:58.158Z"
   },
   {
    "duration": 14,
    "start_time": "2023-05-11T15:10:00.398Z"
   },
   {
    "duration": 14,
    "start_time": "2023-05-11T15:10:22.576Z"
   },
   {
    "duration": 40,
    "start_time": "2023-05-11T15:10:25.757Z"
   },
   {
    "duration": 60,
    "start_time": "2023-05-11T15:10:27.859Z"
   },
   {
    "duration": 8,
    "start_time": "2023-05-11T15:10:30.278Z"
   },
   {
    "duration": 62,
    "start_time": "2023-05-11T15:10:33.123Z"
   },
   {
    "duration": 53,
    "start_time": "2023-05-11T15:10:34.080Z"
   },
   {
    "duration": 51,
    "start_time": "2023-05-11T15:10:34.794Z"
   },
   {
    "duration": 46,
    "start_time": "2023-05-11T15:10:35.374Z"
   },
   {
    "duration": 206,
    "start_time": "2023-05-11T15:10:38.291Z"
   },
   {
    "duration": 7,
    "start_time": "2023-05-11T15:10:39.192Z"
   },
   {
    "duration": 226,
    "start_time": "2023-05-11T15:10:40.307Z"
   },
   {
    "duration": 49,
    "start_time": "2023-05-11T15:12:35.328Z"
   },
   {
    "duration": 232,
    "start_time": "2023-05-11T15:12:38.840Z"
   },
   {
    "duration": 221,
    "start_time": "2023-05-11T15:12:42.759Z"
   },
   {
    "duration": 4,
    "start_time": "2023-05-11T15:13:02.727Z"
   },
   {
    "duration": 240,
    "start_time": "2023-05-11T15:13:04.658Z"
   },
   {
    "duration": 130,
    "start_time": "2023-05-11T15:13:05.910Z"
   },
   {
    "duration": 7,
    "start_time": "2023-05-11T15:13:21.912Z"
   },
   {
    "duration": 234,
    "start_time": "2023-05-11T15:13:22.804Z"
   },
   {
    "duration": 2,
    "start_time": "2023-05-11T15:23:34.791Z"
   },
   {
    "duration": 63,
    "start_time": "2023-05-11T15:23:35.588Z"
   },
   {
    "duration": 1597,
    "start_time": "2023-05-11T15:23:52.120Z"
   },
   {
    "duration": 172,
    "start_time": "2023-05-11T15:23:53.719Z"
   },
   {
    "duration": 21,
    "start_time": "2023-05-11T15:23:53.892Z"
   },
   {
    "duration": 12,
    "start_time": "2023-05-11T15:23:53.915Z"
   },
   {
    "duration": 171,
    "start_time": "2023-05-11T15:23:53.929Z"
   },
   {
    "duration": 184,
    "start_time": "2023-05-11T15:23:54.102Z"
   },
   {
    "duration": 146,
    "start_time": "2023-05-11T15:23:54.288Z"
   },
   {
    "duration": 151,
    "start_time": "2023-05-11T15:23:54.436Z"
   },
   {
    "duration": 21,
    "start_time": "2023-05-11T15:23:54.588Z"
   },
   {
    "duration": 3,
    "start_time": "2023-05-11T15:23:54.611Z"
   },
   {
    "duration": 7,
    "start_time": "2023-05-11T15:23:54.616Z"
   },
   {
    "duration": 45,
    "start_time": "2023-05-11T15:23:54.625Z"
   },
   {
    "duration": 27,
    "start_time": "2023-05-11T15:23:54.672Z"
   },
   {
    "duration": 8,
    "start_time": "2023-05-11T15:23:54.702Z"
   },
   {
    "duration": 47,
    "start_time": "2023-05-11T15:23:54.712Z"
   },
   {
    "duration": 311,
    "start_time": "2023-05-11T15:23:54.761Z"
   },
   {
    "duration": 18,
    "start_time": "2023-05-11T15:23:55.074Z"
   },
   {
    "duration": 5,
    "start_time": "2023-05-11T15:23:55.094Z"
   },
   {
    "duration": 9,
    "start_time": "2023-05-11T15:23:55.101Z"
   },
   {
    "duration": 156,
    "start_time": "2023-05-11T15:23:55.111Z"
   },
   {
    "duration": 0,
    "start_time": "2023-05-11T15:23:55.269Z"
   },
   {
    "duration": 0,
    "start_time": "2023-05-11T15:23:55.272Z"
   },
   {
    "duration": 0,
    "start_time": "2023-05-11T15:23:55.273Z"
   },
   {
    "duration": 0,
    "start_time": "2023-05-11T15:23:55.275Z"
   },
   {
    "duration": 0,
    "start_time": "2023-05-11T15:23:55.276Z"
   },
   {
    "duration": 0,
    "start_time": "2023-05-11T15:23:55.277Z"
   },
   {
    "duration": 0,
    "start_time": "2023-05-11T15:23:55.278Z"
   },
   {
    "duration": 0,
    "start_time": "2023-05-11T15:23:55.279Z"
   },
   {
    "duration": 0,
    "start_time": "2023-05-11T15:23:55.280Z"
   },
   {
    "duration": 0,
    "start_time": "2023-05-11T15:23:55.281Z"
   },
   {
    "duration": 0,
    "start_time": "2023-05-11T15:23:55.282Z"
   },
   {
    "duration": 0,
    "start_time": "2023-05-11T15:23:55.283Z"
   },
   {
    "duration": 0,
    "start_time": "2023-05-11T15:23:55.285Z"
   },
   {
    "duration": 0,
    "start_time": "2023-05-11T15:23:55.286Z"
   },
   {
    "duration": 0,
    "start_time": "2023-05-11T15:23:55.287Z"
   },
   {
    "duration": 0,
    "start_time": "2023-05-11T15:23:55.288Z"
   },
   {
    "duration": 0,
    "start_time": "2023-05-11T15:23:55.289Z"
   },
   {
    "duration": 0,
    "start_time": "2023-05-11T15:23:55.290Z"
   },
   {
    "duration": 0,
    "start_time": "2023-05-11T15:23:55.291Z"
   },
   {
    "duration": 0,
    "start_time": "2023-05-11T15:23:55.292Z"
   },
   {
    "duration": 4,
    "start_time": "2023-05-11T15:24:31.079Z"
   },
   {
    "duration": 167,
    "start_time": "2023-05-11T15:24:32.895Z"
   },
   {
    "duration": 19,
    "start_time": "2023-05-11T15:24:33.493Z"
   },
   {
    "duration": 10,
    "start_time": "2023-05-11T15:24:35.801Z"
   },
   {
    "duration": 157,
    "start_time": "2023-05-11T15:24:38.038Z"
   },
   {
    "duration": 156,
    "start_time": "2023-05-11T15:24:39.520Z"
   },
   {
    "duration": 121,
    "start_time": "2023-05-11T15:24:41.359Z"
   },
   {
    "duration": 151,
    "start_time": "2023-05-11T15:24:42.189Z"
   },
   {
    "duration": 22,
    "start_time": "2023-05-11T15:24:44.418Z"
   },
   {
    "duration": 4,
    "start_time": "2023-05-11T15:24:48.507Z"
   },
   {
    "duration": 4,
    "start_time": "2023-05-11T15:24:49.262Z"
   },
   {
    "duration": 21,
    "start_time": "2023-05-11T15:24:50.406Z"
   },
   {
    "duration": 28,
    "start_time": "2023-05-11T15:24:52.021Z"
   },
   {
    "duration": 9,
    "start_time": "2023-05-11T15:24:54.196Z"
   },
   {
    "duration": 27,
    "start_time": "2023-05-11T15:24:56.626Z"
   },
   {
    "duration": 221,
    "start_time": "2023-05-11T15:24:59.749Z"
   },
   {
    "duration": 17,
    "start_time": "2023-05-11T15:25:04.646Z"
   },
   {
    "duration": 4,
    "start_time": "2023-05-11T15:25:06.683Z"
   },
   {
    "duration": 3,
    "start_time": "2023-05-11T15:25:08.579Z"
   },
   {
    "duration": 12,
    "start_time": "2023-05-11T15:25:10.459Z"
   },
   {
    "duration": 3,
    "start_time": "2023-05-11T15:26:40.231Z"
   },
   {
    "duration": 23,
    "start_time": "2023-05-11T15:26:41.289Z"
   },
   {
    "duration": 25,
    "start_time": "2023-05-11T15:26:43.803Z"
   },
   {
    "duration": 1464,
    "start_time": "2023-05-11T15:27:04.033Z"
   },
   {
    "duration": 151,
    "start_time": "2023-05-11T15:27:05.499Z"
   },
   {
    "duration": 22,
    "start_time": "2023-05-11T15:27:05.652Z"
   },
   {
    "duration": 14,
    "start_time": "2023-05-11T15:27:05.676Z"
   },
   {
    "duration": 168,
    "start_time": "2023-05-11T15:27:05.692Z"
   },
   {
    "duration": 201,
    "start_time": "2023-05-11T15:27:05.861Z"
   },
   {
    "duration": 156,
    "start_time": "2023-05-11T15:27:06.064Z"
   },
   {
    "duration": 147,
    "start_time": "2023-05-11T15:27:06.222Z"
   },
   {
    "duration": 22,
    "start_time": "2023-05-11T15:27:06.370Z"
   },
   {
    "duration": 4,
    "start_time": "2023-05-11T15:27:06.396Z"
   },
   {
    "duration": 15,
    "start_time": "2023-05-11T15:27:06.402Z"
   },
   {
    "duration": 46,
    "start_time": "2023-05-11T15:27:06.419Z"
   },
   {
    "duration": 32,
    "start_time": "2023-05-11T15:27:06.467Z"
   },
   {
    "duration": 8,
    "start_time": "2023-05-11T15:27:06.501Z"
   },
   {
    "duration": 51,
    "start_time": "2023-05-11T15:27:06.511Z"
   },
   {
    "duration": 328,
    "start_time": "2023-05-11T15:27:06.564Z"
   },
   {
    "duration": 18,
    "start_time": "2023-05-11T15:27:06.894Z"
   },
   {
    "duration": 11,
    "start_time": "2023-05-11T15:27:06.914Z"
   },
   {
    "duration": 30,
    "start_time": "2023-05-11T15:27:06.928Z"
   },
   {
    "duration": 114,
    "start_time": "2023-05-11T15:27:06.960Z"
   },
   {
    "duration": 0,
    "start_time": "2023-05-11T15:27:07.076Z"
   },
   {
    "duration": 0,
    "start_time": "2023-05-11T15:27:07.077Z"
   },
   {
    "duration": 0,
    "start_time": "2023-05-11T15:27:07.078Z"
   },
   {
    "duration": 0,
    "start_time": "2023-05-11T15:27:07.080Z"
   },
   {
    "duration": 0,
    "start_time": "2023-05-11T15:27:07.081Z"
   },
   {
    "duration": 0,
    "start_time": "2023-05-11T15:27:07.082Z"
   },
   {
    "duration": 0,
    "start_time": "2023-05-11T15:27:07.083Z"
   },
   {
    "duration": 0,
    "start_time": "2023-05-11T15:27:07.084Z"
   },
   {
    "duration": 0,
    "start_time": "2023-05-11T15:27:07.085Z"
   },
   {
    "duration": 0,
    "start_time": "2023-05-11T15:27:07.086Z"
   },
   {
    "duration": 0,
    "start_time": "2023-05-11T15:27:07.088Z"
   },
   {
    "duration": 0,
    "start_time": "2023-05-11T15:27:07.089Z"
   },
   {
    "duration": 0,
    "start_time": "2023-05-11T15:27:07.090Z"
   },
   {
    "duration": 0,
    "start_time": "2023-05-11T15:27:07.091Z"
   },
   {
    "duration": 0,
    "start_time": "2023-05-11T15:27:07.092Z"
   },
   {
    "duration": 0,
    "start_time": "2023-05-11T15:27:07.093Z"
   },
   {
    "duration": 0,
    "start_time": "2023-05-11T15:27:07.094Z"
   },
   {
    "duration": 0,
    "start_time": "2023-05-11T15:27:07.096Z"
   },
   {
    "duration": 0,
    "start_time": "2023-05-11T15:27:07.097Z"
   },
   {
    "duration": 0,
    "start_time": "2023-05-11T15:27:07.098Z"
   },
   {
    "duration": 5,
    "start_time": "2023-05-11T15:27:39.217Z"
   },
   {
    "duration": 163,
    "start_time": "2023-05-11T15:33:54.114Z"
   },
   {
    "duration": 20,
    "start_time": "2023-05-11T15:33:54.869Z"
   },
   {
    "duration": 8,
    "start_time": "2023-05-11T15:33:57.872Z"
   },
   {
    "duration": 142,
    "start_time": "2023-05-11T15:34:00.220Z"
   },
   {
    "duration": 178,
    "start_time": "2023-05-11T15:34:01.778Z"
   },
   {
    "duration": 138,
    "start_time": "2023-05-11T15:34:03.853Z"
   },
   {
    "duration": 135,
    "start_time": "2023-05-11T15:34:04.820Z"
   },
   {
    "duration": 24,
    "start_time": "2023-05-11T15:34:07.317Z"
   },
   {
    "duration": 4,
    "start_time": "2023-05-11T15:34:11.323Z"
   },
   {
    "duration": 3,
    "start_time": "2023-05-11T15:34:12.121Z"
   },
   {
    "duration": 20,
    "start_time": "2023-05-11T15:34:12.848Z"
   },
   {
    "duration": 28,
    "start_time": "2023-05-11T15:34:14.354Z"
   },
   {
    "duration": 9,
    "start_time": "2023-05-11T15:34:18.735Z"
   },
   {
    "duration": 35,
    "start_time": "2023-05-11T15:34:26.551Z"
   },
   {
    "duration": 209,
    "start_time": "2023-05-11T15:34:29.438Z"
   },
   {
    "duration": 16,
    "start_time": "2023-05-11T15:34:33.478Z"
   },
   {
    "duration": 3,
    "start_time": "2023-05-11T15:34:35.909Z"
   },
   {
    "duration": 11,
    "start_time": "2023-05-11T15:34:37.516Z"
   },
   {
    "duration": 15,
    "start_time": "2023-05-11T15:37:10.116Z"
   },
   {
    "duration": 10,
    "start_time": "2023-05-11T15:38:41.228Z"
   },
   {
    "duration": 3,
    "start_time": "2023-05-11T15:38:47.970Z"
   },
   {
    "duration": 29,
    "start_time": "2023-05-11T15:38:49.039Z"
   },
   {
    "duration": 4,
    "start_time": "2023-05-11T15:38:58.874Z"
   },
   {
    "duration": 158,
    "start_time": "2023-05-11T15:39:00.817Z"
   },
   {
    "duration": 20,
    "start_time": "2023-05-11T15:39:01.605Z"
   },
   {
    "duration": 14,
    "start_time": "2023-05-11T15:39:04.306Z"
   },
   {
    "duration": 149,
    "start_time": "2023-05-11T15:39:06.441Z"
   },
   {
    "duration": 156,
    "start_time": "2023-05-11T15:39:07.943Z"
   },
   {
    "duration": 128,
    "start_time": "2023-05-11T15:39:10.370Z"
   },
   {
    "duration": 135,
    "start_time": "2023-05-11T15:39:20.558Z"
   },
   {
    "duration": 21,
    "start_time": "2023-05-11T15:39:22.836Z"
   },
   {
    "duration": 4,
    "start_time": "2023-05-11T15:39:26.470Z"
   },
   {
    "duration": 5,
    "start_time": "2023-05-11T15:39:27.360Z"
   },
   {
    "duration": 21,
    "start_time": "2023-05-11T15:39:29.797Z"
   },
   {
    "duration": 21,
    "start_time": "2023-05-11T15:40:17.298Z"
   },
   {
    "duration": 37,
    "start_time": "2023-05-11T15:40:18.706Z"
   },
   {
    "duration": 9,
    "start_time": "2023-05-11T15:40:22.300Z"
   },
   {
    "duration": 39,
    "start_time": "2023-05-11T15:40:29.081Z"
   },
   {
    "duration": 244,
    "start_time": "2023-05-11T15:40:32.324Z"
   },
   {
    "duration": 18,
    "start_time": "2023-05-11T15:40:38.682Z"
   },
   {
    "duration": 4,
    "start_time": "2023-05-11T15:40:41.305Z"
   },
   {
    "duration": 11,
    "start_time": "2023-05-11T15:40:43.559Z"
   },
   {
    "duration": 9,
    "start_time": "2023-05-11T15:42:29.126Z"
   },
   {
    "duration": 3,
    "start_time": "2023-05-11T15:42:46.241Z"
   },
   {
    "duration": 158,
    "start_time": "2023-05-11T15:42:47.524Z"
   },
   {
    "duration": 19,
    "start_time": "2023-05-11T15:42:47.913Z"
   },
   {
    "duration": 18,
    "start_time": "2023-05-11T15:42:50.612Z"
   },
   {
    "duration": 158,
    "start_time": "2023-05-11T15:42:57.239Z"
   },
   {
    "duration": 176,
    "start_time": "2023-05-11T15:42:58.772Z"
   },
   {
    "duration": 109,
    "start_time": "2023-05-11T15:43:00.332Z"
   },
   {
    "duration": 143,
    "start_time": "2023-05-11T15:43:01.540Z"
   },
   {
    "duration": 21,
    "start_time": "2023-05-11T15:43:04.352Z"
   },
   {
    "duration": 4,
    "start_time": "2023-05-11T15:43:09.508Z"
   },
   {
    "duration": 4,
    "start_time": "2023-05-11T15:43:10.779Z"
   },
   {
    "duration": 8,
    "start_time": "2023-05-11T15:43:13.275Z"
   },
   {
    "duration": 11,
    "start_time": "2023-05-11T15:43:22.105Z"
   },
   {
    "duration": 32,
    "start_time": "2023-05-11T15:43:22.918Z"
   },
   {
    "duration": 27,
    "start_time": "2023-05-11T15:43:25.017Z"
   },
   {
    "duration": 12,
    "start_time": "2023-05-11T15:43:27.257Z"
   },
   {
    "duration": 34,
    "start_time": "2023-05-11T15:43:30.122Z"
   },
   {
    "duration": 239,
    "start_time": "2023-05-11T15:43:34.820Z"
   },
   {
    "duration": 18,
    "start_time": "2023-05-11T15:43:39.062Z"
   },
   {
    "duration": 4,
    "start_time": "2023-05-11T15:43:41.730Z"
   },
   {
    "duration": 14,
    "start_time": "2023-05-11T15:44:14.180Z"
   },
   {
    "duration": 37,
    "start_time": "2023-05-11T15:44:27.220Z"
   },
   {
    "duration": 38,
    "start_time": "2023-05-11T15:44:28.219Z"
   },
   {
    "duration": 33,
    "start_time": "2023-05-11T15:44:31.275Z"
   },
   {
    "duration": 61,
    "start_time": "2023-05-11T15:44:33.353Z"
   },
   {
    "duration": 151,
    "start_time": "2023-05-11T15:44:34.805Z"
   },
   {
    "duration": 433,
    "start_time": "2023-05-11T15:44:38.041Z"
   },
   {
    "duration": 14,
    "start_time": "2023-05-11T15:44:41.765Z"
   },
   {
    "duration": 13,
    "start_time": "2023-05-11T15:44:46.720Z"
   },
   {
    "duration": 35,
    "start_time": "2023-05-11T15:44:50.628Z"
   },
   {
    "duration": 62,
    "start_time": "2023-05-11T15:44:52.582Z"
   },
   {
    "duration": 9,
    "start_time": "2023-05-11T15:44:54.985Z"
   },
   {
    "duration": 56,
    "start_time": "2023-05-11T15:44:57.814Z"
   },
   {
    "duration": 64,
    "start_time": "2023-05-11T15:44:59.145Z"
   },
   {
    "duration": 50,
    "start_time": "2023-05-11T15:44:59.912Z"
   },
   {
    "duration": 64,
    "start_time": "2023-05-11T15:45:00.715Z"
   },
   {
    "duration": 211,
    "start_time": "2023-05-11T15:45:04.036Z"
   },
   {
    "duration": 3,
    "start_time": "2023-05-11T15:45:05.607Z"
   },
   {
    "duration": 62,
    "start_time": "2023-05-11T15:45:07.613Z"
   },
   {
    "duration": 7,
    "start_time": "2023-05-11T15:45:09.876Z"
   },
   {
    "duration": 236,
    "start_time": "2023-05-11T15:45:10.538Z"
   },
   {
    "duration": 1613,
    "start_time": "2023-05-11T15:45:31.320Z"
   },
   {
    "duration": 157,
    "start_time": "2023-05-11T15:45:32.936Z"
   },
   {
    "duration": 21,
    "start_time": "2023-05-11T15:45:33.095Z"
   },
   {
    "duration": 13,
    "start_time": "2023-05-11T15:45:33.119Z"
   },
   {
    "duration": 183,
    "start_time": "2023-05-11T15:45:33.134Z"
   },
   {
    "duration": 179,
    "start_time": "2023-05-11T15:45:33.319Z"
   },
   {
    "duration": 144,
    "start_time": "2023-05-11T15:45:33.500Z"
   },
   {
    "duration": 167,
    "start_time": "2023-05-11T15:45:33.647Z"
   },
   {
    "duration": 23,
    "start_time": "2023-05-11T15:45:33.816Z"
   },
   {
    "duration": 18,
    "start_time": "2023-05-11T15:45:33.841Z"
   },
   {
    "duration": 16,
    "start_time": "2023-05-11T15:45:33.861Z"
   },
   {
    "duration": 14,
    "start_time": "2023-05-11T15:45:33.879Z"
   },
   {
    "duration": 24,
    "start_time": "2023-05-11T15:45:33.895Z"
   },
   {
    "duration": 37,
    "start_time": "2023-05-11T15:45:33.921Z"
   },
   {
    "duration": 8,
    "start_time": "2023-05-11T15:45:33.960Z"
   },
   {
    "duration": 27,
    "start_time": "2023-05-11T15:45:33.969Z"
   },
   {
    "duration": 339,
    "start_time": "2023-05-11T15:45:33.998Z"
   },
   {
    "duration": 32,
    "start_time": "2023-05-11T15:45:34.339Z"
   },
   {
    "duration": 4,
    "start_time": "2023-05-11T15:45:34.373Z"
   },
   {
    "duration": 20,
    "start_time": "2023-05-11T15:45:34.379Z"
   },
   {
    "duration": 59,
    "start_time": "2023-05-11T15:45:34.400Z"
   },
   {
    "duration": 54,
    "start_time": "2023-05-11T15:45:34.461Z"
   },
   {
    "duration": 46,
    "start_time": "2023-05-11T15:45:34.517Z"
   },
   {
    "duration": 58,
    "start_time": "2023-05-11T15:45:34.565Z"
   },
   {
    "duration": 65,
    "start_time": "2023-05-11T15:45:34.625Z"
   },
   {
    "duration": 461,
    "start_time": "2023-05-11T15:45:34.692Z"
   },
   {
    "duration": 19,
    "start_time": "2023-05-11T15:45:35.155Z"
   },
   {
    "duration": 18,
    "start_time": "2023-05-11T15:45:35.179Z"
   },
   {
    "duration": 91,
    "start_time": "2023-05-11T15:45:35.198Z"
   },
   {
    "duration": 90,
    "start_time": "2023-05-11T15:45:35.290Z"
   },
   {
    "duration": 8,
    "start_time": "2023-05-11T15:45:35.382Z"
   },
   {
    "duration": 86,
    "start_time": "2023-05-11T15:45:35.392Z"
   },
   {
    "duration": 51,
    "start_time": "2023-05-11T15:45:35.480Z"
   },
   {
    "duration": 61,
    "start_time": "2023-05-11T15:45:35.533Z"
   },
   {
    "duration": 45,
    "start_time": "2023-05-11T15:45:35.596Z"
   },
   {
    "duration": 230,
    "start_time": "2023-05-11T15:45:35.643Z"
   },
   {
    "duration": 3,
    "start_time": "2023-05-11T15:45:35.875Z"
   },
   {
    "duration": 178,
    "start_time": "2023-05-11T15:45:35.879Z"
   },
   {
    "duration": 0,
    "start_time": "2023-05-11T15:45:36.059Z"
   },
   {
    "duration": 0,
    "start_time": "2023-05-11T15:45:36.060Z"
   },
   {
    "duration": 47,
    "start_time": "2023-05-14T05:08:37.006Z"
   },
   {
    "duration": 1554,
    "start_time": "2023-05-14T05:09:01.152Z"
   },
   {
    "duration": 540,
    "start_time": "2023-05-14T05:09:02.708Z"
   },
   {
    "duration": 22,
    "start_time": "2023-05-14T05:09:03.250Z"
   },
   {
    "duration": 11,
    "start_time": "2023-05-14T05:09:04.354Z"
   },
   {
    "duration": 189,
    "start_time": "2023-05-14T05:09:05.912Z"
   },
   {
    "duration": 158,
    "start_time": "2023-05-14T05:09:06.764Z"
   },
   {
    "duration": 112,
    "start_time": "2023-05-14T05:09:07.521Z"
   },
   {
    "duration": 138,
    "start_time": "2023-05-14T05:09:07.770Z"
   },
   {
    "duration": 37,
    "start_time": "2023-05-14T05:09:08.374Z"
   },
   {
    "duration": 4,
    "start_time": "2023-05-14T05:09:10.645Z"
   },
   {
    "duration": 3,
    "start_time": "2023-05-14T05:09:11.010Z"
   },
   {
    "duration": 9,
    "start_time": "2023-05-14T05:09:11.241Z"
   },
   {
    "duration": 17,
    "start_time": "2023-05-14T05:09:11.561Z"
   },
   {
    "duration": 27,
    "start_time": "2023-05-14T05:09:12.271Z"
   },
   {
    "duration": 6,
    "start_time": "2023-05-14T05:09:13.641Z"
   },
   {
    "duration": 37,
    "start_time": "2023-05-14T05:09:14.980Z"
   },
   {
    "duration": 250,
    "start_time": "2023-05-14T05:09:16.400Z"
   },
   {
    "duration": 14,
    "start_time": "2023-05-14T05:09:20.239Z"
   },
   {
    "duration": 3,
    "start_time": "2023-05-14T05:09:21.453Z"
   },
   {
    "duration": 9,
    "start_time": "2023-05-14T05:09:22.461Z"
   },
   {
    "duration": 41,
    "start_time": "2023-05-14T05:09:23.833Z"
   },
   {
    "duration": 52,
    "start_time": "2023-05-14T05:09:24.150Z"
   },
   {
    "duration": 41,
    "start_time": "2023-05-14T05:09:26.733Z"
   },
   {
    "duration": 48,
    "start_time": "2023-05-14T05:09:28.325Z"
   },
   {
    "duration": 39,
    "start_time": "2023-05-14T05:09:29.122Z"
   },
   {
    "duration": 392,
    "start_time": "2023-05-14T05:09:30.965Z"
   },
   {
    "duration": 10,
    "start_time": "2023-05-14T05:09:32.427Z"
   },
   {
    "duration": 16,
    "start_time": "2023-05-14T05:09:34.881Z"
   },
   {
    "duration": 34,
    "start_time": "2023-05-14T05:09:37.100Z"
   },
   {
    "duration": 45,
    "start_time": "2023-05-14T05:09:37.632Z"
   },
   {
    "duration": 8,
    "start_time": "2023-05-14T05:09:38.478Z"
   },
   {
    "duration": 42,
    "start_time": "2023-05-14T05:09:39.299Z"
   },
   {
    "duration": 43,
    "start_time": "2023-05-14T05:09:39.677Z"
   },
   {
    "duration": 44,
    "start_time": "2023-05-14T05:09:39.855Z"
   },
   {
    "duration": 32,
    "start_time": "2023-05-14T05:09:40.253Z"
   },
   {
    "duration": 140,
    "start_time": "2023-05-14T05:09:41.858Z"
   },
   {
    "duration": 3,
    "start_time": "2023-05-14T05:09:42.455Z"
   },
   {
    "duration": 173,
    "start_time": "2023-05-14T05:09:42.996Z"
   },
   {
    "duration": 6,
    "start_time": "2023-05-14T05:09:48.923Z"
   },
   {
    "duration": 186,
    "start_time": "2023-05-14T05:09:48.931Z"
   },
   {
    "duration": 3,
    "start_time": "2023-05-14T05:11:41.760Z"
   },
   {
    "duration": 165,
    "start_time": "2023-05-14T05:11:43.430Z"
   },
   {
    "duration": 17,
    "start_time": "2023-05-14T05:11:43.832Z"
   },
   {
    "duration": 9,
    "start_time": "2023-05-14T05:11:45.655Z"
   },
   {
    "duration": 127,
    "start_time": "2023-05-14T05:11:47.496Z"
   },
   {
    "duration": 148,
    "start_time": "2023-05-14T05:11:48.370Z"
   },
   {
    "duration": 91,
    "start_time": "2023-05-14T05:11:49.224Z"
   },
   {
    "duration": 114,
    "start_time": "2023-05-14T05:11:49.630Z"
   },
   {
    "duration": 26,
    "start_time": "2023-05-14T05:11:50.781Z"
   },
   {
    "duration": 3,
    "start_time": "2023-05-14T05:11:53.207Z"
   },
   {
    "duration": 2,
    "start_time": "2023-05-14T05:11:53.561Z"
   },
   {
    "duration": 6,
    "start_time": "2023-05-14T05:11:53.871Z"
   },
   {
    "duration": 25,
    "start_time": "2023-05-14T05:11:54.169Z"
   },
   {
    "duration": 24,
    "start_time": "2023-05-14T05:11:54.799Z"
   },
   {
    "duration": 6,
    "start_time": "2023-05-14T05:11:55.622Z"
   },
   {
    "duration": 33,
    "start_time": "2023-05-14T05:11:56.878Z"
   },
   {
    "duration": 177,
    "start_time": "2023-05-14T05:11:58.157Z"
   },
   {
    "duration": 13,
    "start_time": "2023-05-14T05:12:00.770Z"
   },
   {
    "duration": 3,
    "start_time": "2023-05-14T05:12:01.678Z"
   },
   {
    "duration": 10,
    "start_time": "2023-05-14T05:12:02.328Z"
   },
   {
    "duration": 32,
    "start_time": "2023-05-14T05:12:03.304Z"
   },
   {
    "duration": 35,
    "start_time": "2023-05-14T05:12:03.665Z"
   },
   {
    "duration": 28,
    "start_time": "2023-05-14T05:12:05.756Z"
   },
   {
    "duration": 47,
    "start_time": "2023-05-14T05:12:06.730Z"
   },
   {
    "duration": 12,
    "start_time": "2023-05-14T05:12:07.330Z"
   },
   {
    "duration": 46,
    "start_time": "2023-05-14T05:12:08.965Z"
   },
   {
    "duration": 15,
    "start_time": "2023-05-14T05:12:10.484Z"
   },
   {
    "duration": 11,
    "start_time": "2023-05-14T05:12:12.430Z"
   },
   {
    "duration": 31,
    "start_time": "2023-05-14T05:12:15.414Z"
   },
   {
    "duration": 72,
    "start_time": "2023-05-14T05:12:16.030Z"
   },
   {
    "duration": 7,
    "start_time": "2023-05-14T05:12:16.807Z"
   },
   {
    "duration": 51,
    "start_time": "2023-05-14T05:12:17.453Z"
   },
   {
    "duration": 40,
    "start_time": "2023-05-14T05:12:17.715Z"
   },
   {
    "duration": 35,
    "start_time": "2023-05-14T05:12:17.935Z"
   },
   {
    "duration": 44,
    "start_time": "2023-05-14T05:12:18.358Z"
   },
   {
    "duration": 129,
    "start_time": "2023-05-14T05:12:19.454Z"
   },
   {
    "duration": 2,
    "start_time": "2023-05-14T05:12:19.880Z"
   },
   {
    "duration": 10,
    "start_time": "2023-05-14T05:12:20.310Z"
   },
   {
    "duration": 10,
    "start_time": "2023-05-14T05:12:30.655Z"
   },
   {
    "duration": 59,
    "start_time": "2023-05-14T05:13:16.664Z"
   },
   {
    "duration": 180,
    "start_time": "2023-05-14T05:13:42.538Z"
   },
   {
    "duration": 3,
    "start_time": "2023-05-14T05:15:28.210Z"
   },
   {
    "duration": 3,
    "start_time": "2023-05-14T05:15:28.897Z"
   },
   {
    "duration": 4,
    "start_time": "2023-05-14T12:45:21.100Z"
   },
   {
    "duration": 134,
    "start_time": "2023-05-14T12:45:22.103Z"
   },
   {
    "duration": 15,
    "start_time": "2023-05-14T12:45:22.303Z"
   },
   {
    "duration": 7,
    "start_time": "2023-05-14T12:45:23.396Z"
   },
   {
    "duration": 120,
    "start_time": "2023-05-14T12:45:24.185Z"
   },
   {
    "duration": 128,
    "start_time": "2023-05-14T12:45:25.096Z"
   },
   {
    "duration": 91,
    "start_time": "2023-05-14T12:45:25.606Z"
   },
   {
    "duration": 111,
    "start_time": "2023-05-14T12:45:25.825Z"
   },
   {
    "duration": 26,
    "start_time": "2023-05-14T12:45:26.576Z"
   },
   {
    "duration": 2,
    "start_time": "2023-05-14T12:45:28.202Z"
   },
   {
    "duration": 2,
    "start_time": "2023-05-14T12:45:28.434Z"
   },
   {
    "duration": 6,
    "start_time": "2023-05-14T12:45:28.654Z"
   },
   {
    "duration": 17,
    "start_time": "2023-05-14T12:45:28.864Z"
   },
   {
    "duration": 22,
    "start_time": "2023-05-14T12:45:29.296Z"
   },
   {
    "duration": 6,
    "start_time": "2023-05-14T12:45:29.945Z"
   },
   {
    "duration": 22,
    "start_time": "2023-05-14T12:45:30.847Z"
   },
   {
    "duration": 200,
    "start_time": "2023-05-14T12:45:31.698Z"
   },
   {
    "duration": 13,
    "start_time": "2023-05-14T12:45:33.256Z"
   },
   {
    "duration": 3,
    "start_time": "2023-05-14T12:45:33.900Z"
   },
   {
    "duration": 17,
    "start_time": "2023-05-14T12:45:34.377Z"
   },
   {
    "duration": 28,
    "start_time": "2023-05-14T12:45:35.019Z"
   },
   {
    "duration": 40,
    "start_time": "2023-05-14T12:45:35.255Z"
   },
   {
    "duration": 35,
    "start_time": "2023-05-14T12:45:36.683Z"
   },
   {
    "duration": 51,
    "start_time": "2023-05-14T12:45:37.351Z"
   },
   {
    "duration": 8,
    "start_time": "2023-05-14T12:45:37.800Z"
   },
   {
    "duration": 42,
    "start_time": "2023-05-14T12:45:38.883Z"
   },
   {
    "duration": 10,
    "start_time": "2023-05-14T12:45:39.703Z"
   },
   {
    "duration": 10,
    "start_time": "2023-05-14T12:45:41.000Z"
   },
   {
    "duration": 28,
    "start_time": "2023-05-14T12:45:42.141Z"
   },
   {
    "duration": 44,
    "start_time": "2023-05-14T12:45:42.597Z"
   },
   {
    "duration": 6,
    "start_time": "2023-05-14T12:45:43.206Z"
   },
   {
    "duration": 55,
    "start_time": "2023-05-14T12:45:43.897Z"
   },
   {
    "duration": 60,
    "start_time": "2023-05-14T12:45:44.348Z"
   },
   {
    "duration": 35,
    "start_time": "2023-05-14T12:45:44.600Z"
   },
   {
    "duration": 32,
    "start_time": "2023-05-14T12:45:44.800Z"
   },
   {
    "duration": 193,
    "start_time": "2023-05-14T12:45:45.910Z"
   },
   {
    "duration": 3,
    "start_time": "2023-05-14T12:45:46.344Z"
   },
   {
    "duration": 176,
    "start_time": "2023-05-14T12:45:46.803Z"
   },
   {
    "duration": 3,
    "start_time": "2023-05-14T12:45:48.222Z"
   },
   {
    "duration": 2,
    "start_time": "2023-05-14T12:45:48.796Z"
   }
  ],
  "kernelspec": {
   "display_name": "Python 3 (ipykernel)",
   "language": "python",
   "name": "python3"
  },
  "language_info": {
   "codemirror_mode": {
    "name": "ipython",
    "version": 3
   },
   "file_extension": ".py",
   "mimetype": "text/x-python",
   "name": "python",
   "nbconvert_exporter": "python",
   "pygments_lexer": "ipython3",
   "version": "3.9.5"
  },
  "toc": {
   "base_numbering": 1,
   "nav_menu": {},
   "number_sections": true,
   "sideBar": true,
   "skip_h1_title": true,
   "title_cell": "Table of Contents",
   "title_sidebar": "Contents",
   "toc_cell": false,
   "toc_position": {},
   "toc_section_display": true,
   "toc_window_display": false
  }
 },
 "nbformat": 4,
 "nbformat_minor": 2
}
